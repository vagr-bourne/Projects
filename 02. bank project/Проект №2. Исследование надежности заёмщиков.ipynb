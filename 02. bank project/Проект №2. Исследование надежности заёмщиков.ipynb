{
 "cells": [
  {
   "cell_type": "markdown",
   "id": "3aa93cb2",
   "metadata": {
    "deletable": false,
    "editable": false,
    "id": "c81daeeb"
   },
   "source": [
    "# Исследование надежности заемщиков\n"
   ]
  },
  {
   "cell_type": "markdown",
   "id": "1e05e433",
   "metadata": {
    "deletable": false,
    "editable": false,
    "id": "827c20bf"
   },
   "source": [
    "Во второй части проекта вы выполните шаги 3 и 4. Их вручную проверит ревьюер.\n",
    "Чтобы вам не пришлось писать код заново для шагов 1 и 2, мы добавили авторские решения в ячейки с кодом. \n",
    "\n"
   ]
  },
  {
   "cell_type": "markdown",
   "id": "b1e27bd7",
   "metadata": {
    "deletable": false,
    "editable": false,
    "id": "744d7639"
   },
   "source": [
    "## Откройте таблицу и изучите общую информацию о данных"
   ]
  },
  {
   "cell_type": "markdown",
   "id": "d742b006",
   "metadata": {
    "deletable": false,
    "editable": false,
    "id": "e7a14c31"
   },
   "source": [
    "**Задание 1. Импортируйте библиотеку pandas. Считайте данные из csv-файла в датафрейм и сохраните в переменную `data`. Путь к файлу:**\n",
    "\n",
    "`/datasets/data.csv`"
   ]
  },
  {
   "cell_type": "code",
   "execution_count": 204,
   "id": "6b152816",
   "metadata": {
    "deletable": false,
    "id": "7bcf75c9"
   },
   "outputs": [],
   "source": [
    "import pandas as pd\n",
    "\n",
    "try:\n",
    "    data = pd.read_csv('/datasets/data.csv')\n",
    "except:\n",
    "    data = pd.read_csv('https://code.s3.yandex.net/datasets/data.csv')"
   ]
  },
  {
   "cell_type": "markdown",
   "id": "6b94462d",
   "metadata": {
    "deletable": false,
    "editable": false,
    "id": "b8038fe3"
   },
   "source": [
    "**Задание 2. Выведите первые 20 строчек датафрейма `data` на экран.**"
   ]
  },
  {
   "cell_type": "code",
   "execution_count": 205,
   "id": "a5e3e9c5",
   "metadata": {
    "deletable": false,
    "id": "2a7cab99",
    "outputId": "1a8f3ef2-d323-4ec2-ddf7-89670b5944c4"
   },
   "outputs": [
    {
     "data": {
      "text/html": [
       "<div>\n",
       "<style scoped>\n",
       "    .dataframe tbody tr th:only-of-type {\n",
       "        vertical-align: middle;\n",
       "    }\n",
       "\n",
       "    .dataframe tbody tr th {\n",
       "        vertical-align: top;\n",
       "    }\n",
       "\n",
       "    .dataframe thead th {\n",
       "        text-align: right;\n",
       "    }\n",
       "</style>\n",
       "<table border=\"1\" class=\"dataframe\">\n",
       "  <thead>\n",
       "    <tr style=\"text-align: right;\">\n",
       "      <th></th>\n",
       "      <th>children</th>\n",
       "      <th>days_employed</th>\n",
       "      <th>dob_years</th>\n",
       "      <th>education</th>\n",
       "      <th>education_id</th>\n",
       "      <th>family_status</th>\n",
       "      <th>family_status_id</th>\n",
       "      <th>gender</th>\n",
       "      <th>income_type</th>\n",
       "      <th>debt</th>\n",
       "      <th>total_income</th>\n",
       "      <th>purpose</th>\n",
       "    </tr>\n",
       "  </thead>\n",
       "  <tbody>\n",
       "    <tr>\n",
       "      <th>0</th>\n",
       "      <td>1</td>\n",
       "      <td>-8437.673028</td>\n",
       "      <td>42</td>\n",
       "      <td>высшее</td>\n",
       "      <td>0</td>\n",
       "      <td>женат / замужем</td>\n",
       "      <td>0</td>\n",
       "      <td>F</td>\n",
       "      <td>сотрудник</td>\n",
       "      <td>0</td>\n",
       "      <td>253875.639453</td>\n",
       "      <td>покупка жилья</td>\n",
       "    </tr>\n",
       "    <tr>\n",
       "      <th>1</th>\n",
       "      <td>1</td>\n",
       "      <td>-4024.803754</td>\n",
       "      <td>36</td>\n",
       "      <td>среднее</td>\n",
       "      <td>1</td>\n",
       "      <td>женат / замужем</td>\n",
       "      <td>0</td>\n",
       "      <td>F</td>\n",
       "      <td>сотрудник</td>\n",
       "      <td>0</td>\n",
       "      <td>112080.014102</td>\n",
       "      <td>приобретение автомобиля</td>\n",
       "    </tr>\n",
       "    <tr>\n",
       "      <th>2</th>\n",
       "      <td>0</td>\n",
       "      <td>-5623.422610</td>\n",
       "      <td>33</td>\n",
       "      <td>Среднее</td>\n",
       "      <td>1</td>\n",
       "      <td>женат / замужем</td>\n",
       "      <td>0</td>\n",
       "      <td>M</td>\n",
       "      <td>сотрудник</td>\n",
       "      <td>0</td>\n",
       "      <td>145885.952297</td>\n",
       "      <td>покупка жилья</td>\n",
       "    </tr>\n",
       "    <tr>\n",
       "      <th>3</th>\n",
       "      <td>3</td>\n",
       "      <td>-4124.747207</td>\n",
       "      <td>32</td>\n",
       "      <td>среднее</td>\n",
       "      <td>1</td>\n",
       "      <td>женат / замужем</td>\n",
       "      <td>0</td>\n",
       "      <td>M</td>\n",
       "      <td>сотрудник</td>\n",
       "      <td>0</td>\n",
       "      <td>267628.550329</td>\n",
       "      <td>дополнительное образование</td>\n",
       "    </tr>\n",
       "    <tr>\n",
       "      <th>4</th>\n",
       "      <td>0</td>\n",
       "      <td>340266.072047</td>\n",
       "      <td>53</td>\n",
       "      <td>среднее</td>\n",
       "      <td>1</td>\n",
       "      <td>гражданский брак</td>\n",
       "      <td>1</td>\n",
       "      <td>F</td>\n",
       "      <td>пенсионер</td>\n",
       "      <td>0</td>\n",
       "      <td>158616.077870</td>\n",
       "      <td>сыграть свадьбу</td>\n",
       "    </tr>\n",
       "    <tr>\n",
       "      <th>5</th>\n",
       "      <td>0</td>\n",
       "      <td>-926.185831</td>\n",
       "      <td>27</td>\n",
       "      <td>высшее</td>\n",
       "      <td>0</td>\n",
       "      <td>гражданский брак</td>\n",
       "      <td>1</td>\n",
       "      <td>M</td>\n",
       "      <td>компаньон</td>\n",
       "      <td>0</td>\n",
       "      <td>255763.565419</td>\n",
       "      <td>покупка жилья</td>\n",
       "    </tr>\n",
       "    <tr>\n",
       "      <th>6</th>\n",
       "      <td>0</td>\n",
       "      <td>-2879.202052</td>\n",
       "      <td>43</td>\n",
       "      <td>высшее</td>\n",
       "      <td>0</td>\n",
       "      <td>женат / замужем</td>\n",
       "      <td>0</td>\n",
       "      <td>F</td>\n",
       "      <td>компаньон</td>\n",
       "      <td>0</td>\n",
       "      <td>240525.971920</td>\n",
       "      <td>операции с жильем</td>\n",
       "    </tr>\n",
       "    <tr>\n",
       "      <th>7</th>\n",
       "      <td>0</td>\n",
       "      <td>-152.779569</td>\n",
       "      <td>50</td>\n",
       "      <td>СРЕДНЕЕ</td>\n",
       "      <td>1</td>\n",
       "      <td>женат / замужем</td>\n",
       "      <td>0</td>\n",
       "      <td>M</td>\n",
       "      <td>сотрудник</td>\n",
       "      <td>0</td>\n",
       "      <td>135823.934197</td>\n",
       "      <td>образование</td>\n",
       "    </tr>\n",
       "    <tr>\n",
       "      <th>8</th>\n",
       "      <td>2</td>\n",
       "      <td>-6929.865299</td>\n",
       "      <td>35</td>\n",
       "      <td>ВЫСШЕЕ</td>\n",
       "      <td>0</td>\n",
       "      <td>гражданский брак</td>\n",
       "      <td>1</td>\n",
       "      <td>F</td>\n",
       "      <td>сотрудник</td>\n",
       "      <td>0</td>\n",
       "      <td>95856.832424</td>\n",
       "      <td>на проведение свадьбы</td>\n",
       "    </tr>\n",
       "    <tr>\n",
       "      <th>9</th>\n",
       "      <td>0</td>\n",
       "      <td>-2188.756445</td>\n",
       "      <td>41</td>\n",
       "      <td>среднее</td>\n",
       "      <td>1</td>\n",
       "      <td>женат / замужем</td>\n",
       "      <td>0</td>\n",
       "      <td>M</td>\n",
       "      <td>сотрудник</td>\n",
       "      <td>0</td>\n",
       "      <td>144425.938277</td>\n",
       "      <td>покупка жилья для семьи</td>\n",
       "    </tr>\n",
       "    <tr>\n",
       "      <th>10</th>\n",
       "      <td>2</td>\n",
       "      <td>-4171.483647</td>\n",
       "      <td>36</td>\n",
       "      <td>высшее</td>\n",
       "      <td>0</td>\n",
       "      <td>женат / замужем</td>\n",
       "      <td>0</td>\n",
       "      <td>M</td>\n",
       "      <td>компаньон</td>\n",
       "      <td>0</td>\n",
       "      <td>113943.491460</td>\n",
       "      <td>покупка недвижимости</td>\n",
       "    </tr>\n",
       "    <tr>\n",
       "      <th>11</th>\n",
       "      <td>0</td>\n",
       "      <td>-792.701887</td>\n",
       "      <td>40</td>\n",
       "      <td>среднее</td>\n",
       "      <td>1</td>\n",
       "      <td>женат / замужем</td>\n",
       "      <td>0</td>\n",
       "      <td>F</td>\n",
       "      <td>сотрудник</td>\n",
       "      <td>0</td>\n",
       "      <td>77069.234271</td>\n",
       "      <td>покупка коммерческой недвижимости</td>\n",
       "    </tr>\n",
       "    <tr>\n",
       "      <th>12</th>\n",
       "      <td>0</td>\n",
       "      <td>NaN</td>\n",
       "      <td>65</td>\n",
       "      <td>среднее</td>\n",
       "      <td>1</td>\n",
       "      <td>гражданский брак</td>\n",
       "      <td>1</td>\n",
       "      <td>M</td>\n",
       "      <td>пенсионер</td>\n",
       "      <td>0</td>\n",
       "      <td>NaN</td>\n",
       "      <td>сыграть свадьбу</td>\n",
       "    </tr>\n",
       "    <tr>\n",
       "      <th>13</th>\n",
       "      <td>0</td>\n",
       "      <td>-1846.641941</td>\n",
       "      <td>54</td>\n",
       "      <td>неоконченное высшее</td>\n",
       "      <td>2</td>\n",
       "      <td>женат / замужем</td>\n",
       "      <td>0</td>\n",
       "      <td>F</td>\n",
       "      <td>сотрудник</td>\n",
       "      <td>0</td>\n",
       "      <td>130458.228857</td>\n",
       "      <td>приобретение автомобиля</td>\n",
       "    </tr>\n",
       "    <tr>\n",
       "      <th>14</th>\n",
       "      <td>0</td>\n",
       "      <td>-1844.956182</td>\n",
       "      <td>56</td>\n",
       "      <td>высшее</td>\n",
       "      <td>0</td>\n",
       "      <td>гражданский брак</td>\n",
       "      <td>1</td>\n",
       "      <td>F</td>\n",
       "      <td>компаньон</td>\n",
       "      <td>1</td>\n",
       "      <td>165127.911772</td>\n",
       "      <td>покупка жилой недвижимости</td>\n",
       "    </tr>\n",
       "    <tr>\n",
       "      <th>15</th>\n",
       "      <td>1</td>\n",
       "      <td>-972.364419</td>\n",
       "      <td>26</td>\n",
       "      <td>среднее</td>\n",
       "      <td>1</td>\n",
       "      <td>женат / замужем</td>\n",
       "      <td>0</td>\n",
       "      <td>F</td>\n",
       "      <td>сотрудник</td>\n",
       "      <td>0</td>\n",
       "      <td>116820.904450</td>\n",
       "      <td>строительство собственной недвижимости</td>\n",
       "    </tr>\n",
       "    <tr>\n",
       "      <th>16</th>\n",
       "      <td>0</td>\n",
       "      <td>-1719.934226</td>\n",
       "      <td>35</td>\n",
       "      <td>среднее</td>\n",
       "      <td>1</td>\n",
       "      <td>женат / замужем</td>\n",
       "      <td>0</td>\n",
       "      <td>F</td>\n",
       "      <td>сотрудник</td>\n",
       "      <td>0</td>\n",
       "      <td>289202.704229</td>\n",
       "      <td>недвижимость</td>\n",
       "    </tr>\n",
       "    <tr>\n",
       "      <th>17</th>\n",
       "      <td>0</td>\n",
       "      <td>-2369.999720</td>\n",
       "      <td>33</td>\n",
       "      <td>высшее</td>\n",
       "      <td>0</td>\n",
       "      <td>гражданский брак</td>\n",
       "      <td>1</td>\n",
       "      <td>M</td>\n",
       "      <td>сотрудник</td>\n",
       "      <td>0</td>\n",
       "      <td>90410.586745</td>\n",
       "      <td>строительство недвижимости</td>\n",
       "    </tr>\n",
       "    <tr>\n",
       "      <th>18</th>\n",
       "      <td>0</td>\n",
       "      <td>400281.136913</td>\n",
       "      <td>53</td>\n",
       "      <td>среднее</td>\n",
       "      <td>1</td>\n",
       "      <td>вдовец / вдова</td>\n",
       "      <td>2</td>\n",
       "      <td>F</td>\n",
       "      <td>пенсионер</td>\n",
       "      <td>0</td>\n",
       "      <td>56823.777243</td>\n",
       "      <td>на покупку подержанного автомобиля</td>\n",
       "    </tr>\n",
       "    <tr>\n",
       "      <th>19</th>\n",
       "      <td>0</td>\n",
       "      <td>-10038.818549</td>\n",
       "      <td>48</td>\n",
       "      <td>СРЕДНЕЕ</td>\n",
       "      <td>1</td>\n",
       "      <td>в разводе</td>\n",
       "      <td>3</td>\n",
       "      <td>F</td>\n",
       "      <td>сотрудник</td>\n",
       "      <td>0</td>\n",
       "      <td>242831.107982</td>\n",
       "      <td>на покупку своего автомобиля</td>\n",
       "    </tr>\n",
       "  </tbody>\n",
       "</table>\n",
       "</div>"
      ],
      "text/plain": [
       "    children  days_employed  dob_years            education  education_id  \\\n",
       "0          1   -8437.673028         42               высшее             0   \n",
       "1          1   -4024.803754         36              среднее             1   \n",
       "2          0   -5623.422610         33              Среднее             1   \n",
       "3          3   -4124.747207         32              среднее             1   \n",
       "4          0  340266.072047         53              среднее             1   \n",
       "5          0    -926.185831         27               высшее             0   \n",
       "6          0   -2879.202052         43               высшее             0   \n",
       "7          0    -152.779569         50              СРЕДНЕЕ             1   \n",
       "8          2   -6929.865299         35               ВЫСШЕЕ             0   \n",
       "9          0   -2188.756445         41              среднее             1   \n",
       "10         2   -4171.483647         36               высшее             0   \n",
       "11         0    -792.701887         40              среднее             1   \n",
       "12         0            NaN         65              среднее             1   \n",
       "13         0   -1846.641941         54  неоконченное высшее             2   \n",
       "14         0   -1844.956182         56               высшее             0   \n",
       "15         1    -972.364419         26              среднее             1   \n",
       "16         0   -1719.934226         35              среднее             1   \n",
       "17         0   -2369.999720         33               высшее             0   \n",
       "18         0  400281.136913         53              среднее             1   \n",
       "19         0  -10038.818549         48              СРЕДНЕЕ             1   \n",
       "\n",
       "       family_status  family_status_id gender income_type  debt  \\\n",
       "0    женат / замужем                 0      F   сотрудник     0   \n",
       "1    женат / замужем                 0      F   сотрудник     0   \n",
       "2    женат / замужем                 0      M   сотрудник     0   \n",
       "3    женат / замужем                 0      M   сотрудник     0   \n",
       "4   гражданский брак                 1      F   пенсионер     0   \n",
       "5   гражданский брак                 1      M   компаньон     0   \n",
       "6    женат / замужем                 0      F   компаньон     0   \n",
       "7    женат / замужем                 0      M   сотрудник     0   \n",
       "8   гражданский брак                 1      F   сотрудник     0   \n",
       "9    женат / замужем                 0      M   сотрудник     0   \n",
       "10   женат / замужем                 0      M   компаньон     0   \n",
       "11   женат / замужем                 0      F   сотрудник     0   \n",
       "12  гражданский брак                 1      M   пенсионер     0   \n",
       "13   женат / замужем                 0      F   сотрудник     0   \n",
       "14  гражданский брак                 1      F   компаньон     1   \n",
       "15   женат / замужем                 0      F   сотрудник     0   \n",
       "16   женат / замужем                 0      F   сотрудник     0   \n",
       "17  гражданский брак                 1      M   сотрудник     0   \n",
       "18    вдовец / вдова                 2      F   пенсионер     0   \n",
       "19         в разводе                 3      F   сотрудник     0   \n",
       "\n",
       "     total_income                                 purpose  \n",
       "0   253875.639453                           покупка жилья  \n",
       "1   112080.014102                 приобретение автомобиля  \n",
       "2   145885.952297                           покупка жилья  \n",
       "3   267628.550329              дополнительное образование  \n",
       "4   158616.077870                         сыграть свадьбу  \n",
       "5   255763.565419                           покупка жилья  \n",
       "6   240525.971920                       операции с жильем  \n",
       "7   135823.934197                             образование  \n",
       "8    95856.832424                   на проведение свадьбы  \n",
       "9   144425.938277                 покупка жилья для семьи  \n",
       "10  113943.491460                    покупка недвижимости  \n",
       "11   77069.234271       покупка коммерческой недвижимости  \n",
       "12            NaN                         сыграть свадьбу  \n",
       "13  130458.228857                 приобретение автомобиля  \n",
       "14  165127.911772              покупка жилой недвижимости  \n",
       "15  116820.904450  строительство собственной недвижимости  \n",
       "16  289202.704229                            недвижимость  \n",
       "17   90410.586745              строительство недвижимости  \n",
       "18   56823.777243      на покупку подержанного автомобиля  \n",
       "19  242831.107982            на покупку своего автомобиля  "
      ]
     },
     "execution_count": 205,
     "metadata": {},
     "output_type": "execute_result"
    }
   ],
   "source": [
    "data.head(20)"
   ]
  },
  {
   "cell_type": "markdown",
   "id": "91a8e070",
   "metadata": {
    "deletable": false,
    "editable": false,
    "id": "1c12e233"
   },
   "source": [
    "**Задание 3. Выведите основную информацию о датафрейме с помощью метода `info()`.**"
   ]
  },
  {
   "cell_type": "code",
   "execution_count": 206,
   "id": "230b7556",
   "metadata": {
    "deletable": false,
    "id": "2b757bca",
    "outputId": "15376089-8dad-46c9-b520-c05248d43158"
   },
   "outputs": [
    {
     "name": "stdout",
     "output_type": "stream",
     "text": [
      "<class 'pandas.core.frame.DataFrame'>\n",
      "RangeIndex: 21525 entries, 0 to 21524\n",
      "Data columns (total 12 columns):\n",
      " #   Column            Non-Null Count  Dtype  \n",
      "---  ------            --------------  -----  \n",
      " 0   children          21525 non-null  int64  \n",
      " 1   days_employed     19351 non-null  float64\n",
      " 2   dob_years         21525 non-null  int64  \n",
      " 3   education         21525 non-null  object \n",
      " 4   education_id      21525 non-null  int64  \n",
      " 5   family_status     21525 non-null  object \n",
      " 6   family_status_id  21525 non-null  int64  \n",
      " 7   gender            21525 non-null  object \n",
      " 8   income_type       21525 non-null  object \n",
      " 9   debt              21525 non-null  int64  \n",
      " 10  total_income      19351 non-null  float64\n",
      " 11  purpose           21525 non-null  object \n",
      "dtypes: float64(2), int64(5), object(5)\n",
      "memory usage: 2.0+ MB\n"
     ]
    }
   ],
   "source": [
    "data.info()"
   ]
  },
  {
   "cell_type": "markdown",
   "id": "268fdae9",
   "metadata": {
    "deletable": false,
    "editable": false,
    "id": "333ec665"
   },
   "source": [
    "## Предобработка данных"
   ]
  },
  {
   "cell_type": "markdown",
   "id": "2114beca",
   "metadata": {
    "deletable": false,
    "editable": false,
    "id": "02d92d53"
   },
   "source": [
    "### Удаление пропусков"
   ]
  },
  {
   "cell_type": "markdown",
   "id": "7eb2a284",
   "metadata": {
    "deletable": false,
    "editable": false,
    "id": "cd84967c"
   },
   "source": [
    "**Задание 4. Выведите количество пропущенных значений для каждого столбца. Используйте комбинацию двух методов.**"
   ]
  },
  {
   "cell_type": "code",
   "execution_count": 207,
   "id": "e7a70921",
   "metadata": {
    "deletable": false,
    "id": "7f9b2309",
    "outputId": "81f4d817-781c-465c-ed15-91ce4446810d"
   },
   "outputs": [
    {
     "data": {
      "text/plain": [
       "children               0\n",
       "days_employed       2174\n",
       "dob_years              0\n",
       "education              0\n",
       "education_id           0\n",
       "family_status          0\n",
       "family_status_id       0\n",
       "gender                 0\n",
       "income_type            0\n",
       "debt                   0\n",
       "total_income        2174\n",
       "purpose                0\n",
       "dtype: int64"
      ]
     },
     "execution_count": 207,
     "metadata": {},
     "output_type": "execute_result"
    }
   ],
   "source": [
    "data.isna().sum()"
   ]
  },
  {
   "cell_type": "markdown",
   "id": "69ff0fbc",
   "metadata": {},
   "source": [
    "Здесь и ниже, мы проведём небольшое дополнительное исследование, которое в дальнейшем поможет нам получить дополнительные выводы к нашему исследованию.\n",
    "\n",
    "Прежде, чем обрабатывать и заменять пропущенные значения в таблице, попробуем их изучить.\n",
    "Для этого создадим функцию def которая будет отбирать Только те строки, в которых присутствуют пропущенные (NaN) значения в нашей таблице.\n",
    "Выведем на экран первые 30 строк с пропущенными данными."
   ]
  },
  {
   "cell_type": "code",
   "execution_count": 208,
   "id": "9ae08bf8",
   "metadata": {},
   "outputs": [
    {
     "name": "stdout",
     "output_type": "stream",
     "text": [
      "     children  days_employed  dob_years            education  education_id  \\\n",
      "12          0            NaN         65              среднее             1   \n",
      "26          0            NaN         41              среднее             1   \n",
      "29          0            NaN         63              среднее             1   \n",
      "41          0            NaN         50              среднее             1   \n",
      "55          0            NaN         54              среднее             1   \n",
      "65          0            NaN         21              среднее             1   \n",
      "67          0            NaN         52               высшее             0   \n",
      "72          1            NaN         32               высшее             0   \n",
      "82          2            NaN         50               высшее             0   \n",
      "83          0            NaN         52              среднее             1   \n",
      "90          2            NaN         35               высшее             0   \n",
      "94          1            NaN         34               высшее             0   \n",
      "96          0            NaN         44              СРЕДНЕЕ             1   \n",
      "97          0            NaN         47               высшее             0   \n",
      "120         0            NaN         46              среднее             1   \n",
      "121         0            NaN         29               высшее             0   \n",
      "135         0            NaN         27              среднее             1   \n",
      "141         0            NaN         39              среднее             1   \n",
      "145         0            NaN         62              среднее             1   \n",
      "174         0            NaN         55               высшее             0   \n",
      "181         0            NaN         26              среднее             1   \n",
      "189         1            NaN         30              среднее             1   \n",
      "205         1            NaN         31               высшее             0   \n",
      "220         1            NaN         23  неоконченное высшее             2   \n",
      "241         0            NaN         47              среднее             1   \n",
      "242         0            NaN         58              среднее             1   \n",
      "247         1            NaN         60               высшее             0   \n",
      "250         0            NaN         54               высшее             0   \n",
      "264         2            NaN         40              среднее             1   \n",
      "278         1            NaN         23              Среднее             1   \n",
      "\n",
      "             family_status  family_status_id gender  income_type  debt  \\\n",
      "12        гражданский брак                 1      M    пенсионер     0   \n",
      "26         женат / замужем                 0      M  госслужащий     0   \n",
      "29   Не женат / не замужем                 4      F    пенсионер     0   \n",
      "41         женат / замужем                 0      F  госслужащий     0   \n",
      "55        гражданский брак                 1      F    пенсионер     1   \n",
      "65   Не женат / не замужем                 4      M    компаньон     0   \n",
      "67         женат / замужем                 0      F    пенсионер     0   \n",
      "72         женат / замужем                 0      M  госслужащий     0   \n",
      "82         женат / замужем                 0      F    сотрудник     0   \n",
      "83         женат / замужем                 0      M    сотрудник     0   \n",
      "90         женат / замужем                 0      F    сотрудник     0   \n",
      "94        гражданский брак                 1      F    компаньон     0   \n",
      "96         женат / замужем                 0      F    сотрудник     0   \n",
      "97         женат / замужем                 0      F    сотрудник     0   \n",
      "120        женат / замужем                 0      F    сотрудник     0   \n",
      "121        женат / замужем                 0      F    компаньон     0   \n",
      "135        женат / замужем                 0      M    компаньон     0   \n",
      "141       гражданский брак                 1      M    сотрудник     0   \n",
      "145        женат / замужем                 0      M    пенсионер     0   \n",
      "174         вдовец / вдова                 2      F    компаньон     0   \n",
      "181       гражданский брак                 1      F    компаньон     1   \n",
      "189  Не женат / не замужем                 4      F    сотрудник     0   \n",
      "205        женат / замужем                 0      F    сотрудник     0   \n",
      "220       гражданский брак                 1      F    компаньон     0   \n",
      "241        женат / замужем                 0      M    сотрудник     0   \n",
      "242        женат / замужем                 0      F  госслужащий     0   \n",
      "247        женат / замужем                 0      F    пенсионер     1   \n",
      "250        женат / замужем                 0      F    сотрудник     0   \n",
      "264              в разводе                 3      F    сотрудник     0   \n",
      "278       гражданский брак                 1      F    сотрудник     1   \n",
      "\n",
      "     total_income                                 purpose  \n",
      "12            NaN                         сыграть свадьбу  \n",
      "26            NaN                             образование  \n",
      "29            NaN        строительство жилой недвижимости  \n",
      "41            NaN        сделка с подержанным автомобилем  \n",
      "55            NaN                         сыграть свадьбу  \n",
      "65            NaN   операции с коммерческой недвижимостью  \n",
      "67            NaN                 покупка жилья для семьи  \n",
      "72            NaN   операции с коммерческой недвижимостью  \n",
      "82            NaN                                   жилье  \n",
      "83            NaN                                   жилье  \n",
      "90            NaN                       операции с жильем  \n",
      "94            NaN                   на проведение свадьбы  \n",
      "96            NaN              покупка жилой недвижимости  \n",
      "97            NaN                  профильное образование  \n",
      "120           NaN                      высшее образование  \n",
      "121           NaN                              автомобиль  \n",
      "135           NaN                                   жилье  \n",
      "141           NaN                                 свадьба  \n",
      "145           NaN              строительство недвижимости  \n",
      "174           NaN                         свой автомобиль  \n",
      "181           NaN                 покупка жилья для семьи  \n",
      "189           NaN                         свой автомобиль  \n",
      "205           NaN      на покупку подержанного автомобиля  \n",
      "220           NaN                         сыграть свадьбу  \n",
      "241           NaN  строительство собственной недвижимости  \n",
      "242           NaN                    покупка своего жилья  \n",
      "247           NaN            заняться высшим образованием  \n",
      "250           NaN        сделка с подержанным автомобилем  \n",
      "264           NaN                            недвижимость  \n",
      "278           NaN                              автомобиль  \n"
     ]
    }
   ],
   "source": [
    "def nans(data): # создаем функцию с перебором по \"nan\" значениям\n",
    "    return data[data.isnull().any(axis=1)] # возвращаем строки, в которых присутствуют отсутствующие NaN значения\n",
    "print(nans(data).head(30)) # выводим на экран первые 30 строк с пропущенными данными."
   ]
  },
  {
   "cell_type": "markdown",
   "id": "ac893c33",
   "metadata": {},
   "source": [
    "Дополнительно выведем на экран все уникальные типы доходов кредитополучателей.\\\n",
    "Это необходимо для того чтобы убедиться в том, что в таблице есть отдельная категория 'безработный'.\\\n",
    "В случае, если бы такой категории не было - можно было бы предположить, что отсутствие значений в таблице выше могло бы соответствовать тому, что данные клиенты являлись безработными.\\\n",
    "Однако данная теория не подтвердилась.\\\n",
    "Отдельный статус безработного присутствует.\\\n",
    "А в нашей полученной таблице - тип дохода у кредитополучателей не имеет никаких явных закономерностей.\\\n",
    "(Есть сотрудники, компаньоны, госслужащие и т.д.)\n"
   ]
  },
  {
   "cell_type": "code",
   "execution_count": 209,
   "id": "28e558d4",
   "metadata": {},
   "outputs": [
    {
     "name": "stdout",
     "output_type": "stream",
     "text": [
      "['сотрудник' 'пенсионер' 'компаньон' 'госслужащий' 'безработный'\n",
      " 'предприниматель' 'студент' 'в декрете']\n"
     ]
    }
   ],
   "source": [
    "print(data['income_type'].unique())"
   ]
  },
  {
   "cell_type": "markdown",
   "id": "c1b6a72f",
   "metadata": {},
   "source": [
    "Как мы можем убедиться, функция работает.\n",
    "После того, как мы вывели результаты на экран, мы обнаружили что в первых 30 строках отсутствие значений в столбцах 'days_employed' и 'total_income' полностью совпадает.\n",
    "Аналогичные наблюдения получились изучив первые 100 строк.\n",
    "\n",
    "Полученные данные дают возможность сделать предположение, что отсутствие значений в данных двух столбцах взаимосвязано.\n",
    "\n",
    "Дальнейшие выводы мы распишем в конце данного проекта в разделе выводов."
   ]
  },
  {
   "cell_type": "markdown",
   "id": "ea48b555",
   "metadata": {
    "deletable": false,
    "editable": false,
    "id": "db86e27b"
   },
   "source": [
    "**Задание 5. В двух столбцах есть пропущенные значения. Один из них — `days_employed`. Пропуски в этом столбце вы обработаете на следующем этапе. Другой столбец с пропущенными значениями — `total_income` — хранит данные о доходах. На сумму дохода сильнее всего влияет тип занятости, поэтому заполнить пропуски в этом столбце нужно медианным значением по каждому типу из столбца `income_type`. Например, у человека с типом занятости `сотрудник` пропуск в столбце `total_income` должен быть заполнен медианным доходом среди всех записей с тем же типом.**"
   ]
  },
  {
   "cell_type": "code",
   "execution_count": 210,
   "id": "73fc8f5a",
   "metadata": {
    "deletable": false,
    "id": "42006a93"
   },
   "outputs": [],
   "source": [
    "for t in data['income_type'].unique():\n",
    "    data.loc[(data['income_type'] == t) & (data['total_income'].isna()), 'total_income'] = \\\n",
    "    data.loc[(data['income_type'] == t), 'total_income'].median()"
   ]
  },
  {
   "cell_type": "markdown",
   "id": "658c8f0b",
   "metadata": {
    "deletable": false,
    "editable": false,
    "id": "89da5ece"
   },
   "source": [
    "### Обработка аномальных значений"
   ]
  },
  {
   "cell_type": "markdown",
   "id": "c0f9c2c7",
   "metadata": {
    "deletable": false,
    "editable": false,
    "id": "57964554"
   },
   "source": [
    "**Задание 6. В данных могут встречаться артефакты (аномалии) — значения, которые не отражают действительность и появились по какой-то ошибке. таким артефактом будет отрицательное количество дней трудового стажа в столбце `days_employed`. Для реальных данных это нормально. Обработайте значения в этом столбце: замените все отрицательные значения положительными с помощью метода `abs()`.**"
   ]
  },
  {
   "cell_type": "code",
   "execution_count": 211,
   "id": "15eb4608",
   "metadata": {
    "deletable": false,
    "id": "f6f055bf"
   },
   "outputs": [],
   "source": [
    "data['days_employed'] = data['days_employed'].abs()"
   ]
  },
  {
   "cell_type": "markdown",
   "id": "7c7bfa21",
   "metadata": {
    "deletable": false,
    "editable": false,
    "id": "6107dd2f"
   },
   "source": [
    "**Задание 7. Для каждого типа занятости выведите медианное значение трудового стажа `days_employed` в днях.**"
   ]
  },
  {
   "cell_type": "code",
   "execution_count": 212,
   "id": "54d32788",
   "metadata": {
    "deletable": false,
    "id": "85a5faf6",
    "outputId": "801ef80e-522b-4668-f34e-565af7432bcf"
   },
   "outputs": [
    {
     "data": {
      "text/plain": [
       "income_type\n",
       "безработный        366413.652744\n",
       "в декрете            3296.759962\n",
       "госслужащий          2689.368353\n",
       "компаньон            1547.382223\n",
       "пенсионер          365213.306266\n",
       "предприниматель       520.848083\n",
       "сотрудник            1574.202821\n",
       "студент               578.751554\n",
       "Name: days_employed, dtype: float64"
      ]
     },
     "execution_count": 212,
     "metadata": {},
     "output_type": "execute_result"
    }
   ],
   "source": [
    "data.groupby('income_type')['days_employed'].agg('median')"
   ]
  },
  {
   "cell_type": "markdown",
   "id": "90066d8d",
   "metadata": {
    "deletable": false,
    "editable": false,
    "id": "38d1a030"
   },
   "source": [
    "У двух типов (безработные и пенсионеры) получатся аномально большие значения. Исправить такие значения сложно, поэтому оставьте их как есть. Тем более этот столбец не понадобится вам для исследования."
   ]
  },
  {
   "cell_type": "markdown",
   "id": "109cae3e",
   "metadata": {
    "deletable": false,
    "editable": false,
    "id": "d8a9f147"
   },
   "source": [
    "**Задание 8. Выведите перечень уникальных значений столбца `children`.**"
   ]
  },
  {
   "cell_type": "code",
   "execution_count": 213,
   "id": "bfc6fc57",
   "metadata": {
    "deletable": false,
    "id": "ef5056eb",
    "outputId": "6975b15c-7f95-4697-d16d-a0c79b657b03"
   },
   "outputs": [
    {
     "data": {
      "text/plain": [
       "array([ 1,  0,  3,  2, -1,  4, 20,  5])"
      ]
     },
     "execution_count": 213,
     "metadata": {},
     "output_type": "execute_result"
    }
   ],
   "source": [
    "data['children'].unique()"
   ]
  },
  {
   "cell_type": "markdown",
   "id": "c27794f1",
   "metadata": {
    "deletable": false,
    "editable": false,
    "id": "40b9ebf2"
   },
   "source": [
    "**Задание 9. В столбце `children` есть два аномальных значения. Удалите строки, в которых встречаются такие аномальные значения из датафрейма `data`.**"
   ]
  },
  {
   "cell_type": "code",
   "execution_count": 214,
   "id": "96c02482",
   "metadata": {
    "deletable": false,
    "id": "3ff9801d"
   },
   "outputs": [],
   "source": [
    "data = data[(data['children'] != -1) & (data['children'] != 20)]"
   ]
  },
  {
   "cell_type": "markdown",
   "id": "783f4f29",
   "metadata": {
    "deletable": false,
    "editable": false,
    "id": "bbc4d0ce"
   },
   "source": [
    "**Задание 10. Ещё раз выведите перечень уникальных значений столбца `children`, чтобы убедиться, что артефакты удалены.**"
   ]
  },
  {
   "cell_type": "code",
   "execution_count": 215,
   "id": "f521e78a",
   "metadata": {
    "deletable": false,
    "id": "ad4fa8b7",
    "outputId": "b2097101-d49d-44d9-901b-32a65c9463d1"
   },
   "outputs": [
    {
     "data": {
      "text/plain": [
       "array([1, 0, 3, 2, 4, 5])"
      ]
     },
     "execution_count": 215,
     "metadata": {},
     "output_type": "execute_result"
    }
   ],
   "source": [
    "data['children'].unique()"
   ]
  },
  {
   "cell_type": "markdown",
   "id": "6befca01",
   "metadata": {
    "deletable": false,
    "editable": false,
    "id": "75440b63"
   },
   "source": [
    "### Удаление пропусков (продолжение)"
   ]
  },
  {
   "cell_type": "markdown",
   "id": "f8fe9fef",
   "metadata": {
    "deletable": false,
    "editable": false,
    "id": "f4ea573f"
   },
   "source": [
    "**Задание 11. Заполните пропуски в столбце `days_employed` медианными значениями по каждого типа занятости `income_type`.**"
   ]
  },
  {
   "cell_type": "code",
   "execution_count": 216,
   "id": "eb1c653f",
   "metadata": {
    "deletable": false,
    "id": "af6b1a7e"
   },
   "outputs": [],
   "source": [
    "for t in data['income_type'].unique():\n",
    "    data.loc[(data['income_type'] == t) & (data['days_employed'].isna()), 'days_employed'] = \\\n",
    "    data.loc[(data['income_type'] == t), 'days_employed'].median()"
   ]
  },
  {
   "cell_type": "markdown",
   "id": "f2eed9d4",
   "metadata": {
    "deletable": false,
    "editable": false,
    "id": "2753f40d"
   },
   "source": [
    "**Задание 12. Убедитесь, что все пропуски заполнены. Проверьте себя и ещё раз выведите количество пропущенных значений для каждого столбца с помощью двух методов.**"
   ]
  },
  {
   "cell_type": "code",
   "execution_count": 217,
   "id": "e9d2fcc1",
   "metadata": {
    "deletable": false,
    "id": "55f78bc2",
    "outputId": "8da1e4e1-358e-4e87-98c9-f261bce0a7b2"
   },
   "outputs": [
    {
     "data": {
      "text/plain": [
       "children            0\n",
       "days_employed       0\n",
       "dob_years           0\n",
       "education           0\n",
       "education_id        0\n",
       "family_status       0\n",
       "family_status_id    0\n",
       "gender              0\n",
       "income_type         0\n",
       "debt                0\n",
       "total_income        0\n",
       "purpose             0\n",
       "dtype: int64"
      ]
     },
     "execution_count": 217,
     "metadata": {},
     "output_type": "execute_result"
    }
   ],
   "source": [
    "data.isna().sum()"
   ]
  },
  {
   "cell_type": "markdown",
   "id": "d45e3e35",
   "metadata": {
    "deletable": false,
    "editable": false,
    "id": "ddc81e43"
   },
   "source": [
    "### Изменение типов данных"
   ]
  },
  {
   "cell_type": "markdown",
   "id": "baff3e1c",
   "metadata": {
    "deletable": false,
    "editable": false,
    "id": "42d19d24"
   },
   "source": [
    "**Задание 13. Замените вещественный тип данных в столбце `total_income` на целочисленный с помощью метода `astype()`.**"
   ]
  },
  {
   "cell_type": "code",
   "execution_count": 218,
   "id": "7645446e",
   "metadata": {
    "deletable": false,
    "id": "920b65ad"
   },
   "outputs": [],
   "source": [
    "data['total_income'] = data['total_income'].astype(int)"
   ]
  },
  {
   "cell_type": "markdown",
   "id": "9e663bf5",
   "metadata": {
    "deletable": false,
    "editable": false,
    "id": "80c420ba"
   },
   "source": [
    "### Обработка дубликатов"
   ]
  },
  {
   "cell_type": "markdown",
   "id": "c1bb0206",
   "metadata": {
    "deletable": false,
    "editable": false
   },
   "source": [
    "**Задание 14. Обработайте неявные дубликаты в столбце `education`. В этом столбце есть одни и те же значения, но записанные по-разному: с использованием заглавных и строчных букв. Приведите их к нижнему регистру. Проверьте остальные столбцы.**"
   ]
  },
  {
   "cell_type": "code",
   "execution_count": 219,
   "id": "efa1d79c",
   "metadata": {
    "deletable": false
   },
   "outputs": [],
   "source": [
    "data['education'] = data['education'].str.lower()"
   ]
  },
  {
   "cell_type": "markdown",
   "id": "f61b8fcd",
   "metadata": {
    "deletable": false,
    "editable": false,
    "id": "dc587695"
   },
   "source": [
    "**Задание 15. Выведите на экран количество строк-дубликатов в данных. Если такие строки присутствуют, удалите их.**"
   ]
  },
  {
   "cell_type": "code",
   "execution_count": 220,
   "id": "a55432c9",
   "metadata": {
    "deletable": false,
    "id": "3ee445e4",
    "outputId": "9684deba-1934-42d1-99e1-cda61740f822"
   },
   "outputs": [
    {
     "data": {
      "text/plain": [
       "71"
      ]
     },
     "execution_count": 220,
     "metadata": {},
     "output_type": "execute_result"
    }
   ],
   "source": [
    "data.duplicated().sum()"
   ]
  },
  {
   "cell_type": "code",
   "execution_count": 221,
   "id": "e0adff13",
   "metadata": {
    "deletable": false,
    "id": "8575fe05"
   },
   "outputs": [],
   "source": [
    "data = data.drop_duplicates()"
   ]
  },
  {
   "cell_type": "markdown",
   "id": "1522afba",
   "metadata": {
    "deletable": false,
    "editable": false,
    "id": "9904cf55"
   },
   "source": [
    "### Категоризация данных"
   ]
  },
  {
   "cell_type": "markdown",
   "id": "185011a6",
   "metadata": {
    "deletable": false,
    "editable": false,
    "id": "72fcc8a2"
   },
   "source": [
    "**Задание 16. На основании диапазонов, указанных ниже, создайте в датафрейме `data` столбец `total_income_category` с категориями:**\n",
    "\n",
    "- 0–30000 — `'E'`;\n",
    "- 30001–50000 — `'D'`;\n",
    "- 50001–200000 — `'C'`;\n",
    "- 200001–1000000 — `'B'`;\n",
    "- 1000001 и выше — `'A'`.\n",
    "\n",
    "\n",
    "**Например, кредитополучателю с доходом 25000 нужно назначить категорию `'E'`, а клиенту, получающему 235000, — `'B'`. Используйте собственную функцию с именем `categorize_income()` и метод `apply()`.**"
   ]
  },
  {
   "cell_type": "code",
   "execution_count": 222,
   "id": "e3761b5b",
   "metadata": {
    "deletable": false,
    "id": "e1771346"
   },
   "outputs": [],
   "source": [
    "def categorize_income(income):\n",
    "    try:\n",
    "        if 0 <= income <= 30000:\n",
    "            return 'E'\n",
    "        elif 30001 <= income <= 50000:\n",
    "            return 'D'\n",
    "        elif 50001 <= income <= 200000:\n",
    "            return 'C'\n",
    "        elif 200001 <= income <= 1000000:\n",
    "            return 'B'\n",
    "        elif income >= 1000001:\n",
    "            return 'A'\n",
    "    except:\n",
    "        pass"
   ]
  },
  {
   "cell_type": "code",
   "execution_count": 223,
   "id": "c88f8ade",
   "metadata": {
    "deletable": false,
    "id": "d5f3586d"
   },
   "outputs": [],
   "source": [
    "data['total_income_category'] = data['total_income'].apply(categorize_income)"
   ]
  },
  {
   "cell_type": "markdown",
   "id": "de4de8cd",
   "metadata": {
    "deletable": false,
    "editable": false,
    "id": "dde49b5c"
   },
   "source": [
    "**Задание 17. Выведите на экран перечень уникальных целей взятия кредита из столбца `purpose`.**"
   ]
  },
  {
   "cell_type": "code",
   "execution_count": 224,
   "id": "88eb53dd",
   "metadata": {
    "deletable": false,
    "id": "f67ce9b3",
    "outputId": "673c12d9-7d7e-4ae0-9812-c622c89dd244"
   },
   "outputs": [
    {
     "data": {
      "text/plain": [
       "array(['покупка жилья', 'приобретение автомобиля',\n",
       "       'дополнительное образование', 'сыграть свадьбу',\n",
       "       'операции с жильем', 'образование', 'на проведение свадьбы',\n",
       "       'покупка жилья для семьи', 'покупка недвижимости',\n",
       "       'покупка коммерческой недвижимости', 'покупка жилой недвижимости',\n",
       "       'строительство собственной недвижимости', 'недвижимость',\n",
       "       'строительство недвижимости', 'на покупку подержанного автомобиля',\n",
       "       'на покупку своего автомобиля',\n",
       "       'операции с коммерческой недвижимостью',\n",
       "       'строительство жилой недвижимости', 'жилье',\n",
       "       'операции со своей недвижимостью', 'автомобили',\n",
       "       'заняться образованием', 'сделка с подержанным автомобилем',\n",
       "       'получение образования', 'автомобиль', 'свадьба',\n",
       "       'получение дополнительного образования', 'покупка своего жилья',\n",
       "       'операции с недвижимостью', 'получение высшего образования',\n",
       "       'свой автомобиль', 'сделка с автомобилем',\n",
       "       'профильное образование', 'высшее образование',\n",
       "       'покупка жилья для сдачи', 'на покупку автомобиля', 'ремонт жилью',\n",
       "       'заняться высшим образованием'], dtype=object)"
      ]
     },
     "execution_count": 224,
     "metadata": {},
     "output_type": "execute_result"
    }
   ],
   "source": [
    "data['purpose'].unique()"
   ]
  },
  {
   "cell_type": "markdown",
   "id": "ec69dfea",
   "metadata": {
    "deletable": false,
    "editable": false,
    "id": "85d0aef0"
   },
   "source": [
    "**Задание 18. Создайте функцию, которая на основании данных из столбца `purpose` сформирует новый столбец `purpose_category`, в который войдут следующие категории:**\n",
    "\n",
    "- `'операции с автомобилем'`,\n",
    "- `'операции с недвижимостью'`,\n",
    "- `'проведение свадьбы'`,\n",
    "- `'получение образования'`.\n",
    "\n",
    "**Например, если в столбце `purpose` находится подстрока `'на покупку автомобиля'`, то в столбце `purpose_category` должна появиться строка `'операции с автомобилем'`.**\n",
    "\n",
    "**Используйте собственную функцию с именем `categorize_purpose()` и метод `apply()`. Изучите данные в столбце `purpose` и определите, какие подстроки помогут вам правильно определить категорию.**"
   ]
  },
  {
   "cell_type": "code",
   "execution_count": 225,
   "id": "0c6f3a98",
   "metadata": {
    "deletable": false,
    "id": "e149fab4"
   },
   "outputs": [],
   "source": [
    "def categorize_purpose(row):\n",
    "    try:\n",
    "        if 'автом' in row:\n",
    "            return 'операции с автомобилем'\n",
    "        elif 'жил' in row or 'недвиж' in row:\n",
    "            return 'операции с недвижимостью'\n",
    "        elif 'свад' in row:\n",
    "            return 'проведение свадьбы'\n",
    "        elif 'образов' in row:\n",
    "            return 'получение образования'\n",
    "    except:\n",
    "        return 'нет категории'"
   ]
  },
  {
   "cell_type": "code",
   "execution_count": 226,
   "id": "799e5747",
   "metadata": {
    "deletable": false,
    "id": "bf36e69b"
   },
   "outputs": [],
   "source": [
    "data['purpose_category'] = data['purpose'].apply(categorize_purpose)"
   ]
  },
  {
   "cell_type": "markdown",
   "id": "4502feda",
   "metadata": {
    "deletable": false,
    "editable": false,
    "id": "09b242bf"
   },
   "source": [
    "### Шаг 3. Исследуйте данные и ответьте на вопросы"
   ]
  },
  {
   "cell_type": "markdown",
   "id": "fef7c588",
   "metadata": {
    "deletable": false,
    "editable": false,
    "id": "c5d66278"
   },
   "source": [
    "#### 3.1 Есть ли зависимость между количеством детей и возвратом кредита в срок?"
   ]
  },
  {
   "cell_type": "markdown",
   "id": "a0360987",
   "metadata": {},
   "source": [
    "Для того чтобы определить, есть ли зависимость между количеством детей и возвратом кредита в срок - для начала сгруппируем данные по столбцу, в котором указано количество детей (children) и посчитаем суммарное количество просрочек по платежам, указанных в столбце (debt)."
   ]
  },
  {
   "cell_type": "code",
   "execution_count": 227,
   "id": "2600d768",
   "metadata": {
    "deletable": false,
    "id": "2cacfc4a",
    "scrolled": true
   },
   "outputs": [
    {
     "name": "stdout",
     "output_type": "stream",
     "text": [
      "children\n",
      "0    1063\n",
      "1     444\n",
      "2     194\n",
      "3      27\n",
      "4       4\n",
      "5       0\n",
      "Name: debt, dtype: int64\n"
     ]
    }
   ],
   "source": [
    "print(data.groupby('children')['debt'].sum())"
   ]
  },
  {
   "cell_type": "markdown",
   "id": "12b4f8c7",
   "metadata": {},
   "source": [
    "Из полученных данных можно сделать предположение, что существует обратно-пропорциональная зависимость между количеством детей в семье и возвратом кредита в срок.\n",
    "\n",
    "К примеру:\n",
    "\n",
    "Количество просроченных платежей у кредитополучателей, у которых нет детей - составляет аж целых 1063.\n",
    "\n",
    "В тоже время семьи, у которых 5 детей - ни разу не пророчили оплаты по кредитам.\n",
    "\n",
    "*На первый взгляд можно сделать вывод, что чем больше детей в семье - тем большая вероятность, что кредитополучатели оплатят кредит в срок (без просрочек). \n",
    "Однако это не окончательные выводы!*\n",
    "\n",
    "Для того, чтобы определить верны ли наши предположения, необходимо будет также ознакомится с конверсией этих данных - тоесть отношением целевого показателя к общему. (Количеству просрочек у данной рассматриваемой группы к общему количеству человек в данной группе)"
   ]
  },
  {
   "cell_type": "markdown",
   "id": "be77b0f0",
   "metadata": {},
   "source": [
    "Для определения количества человек, находящихся в каждой и рассматриваемых групп воспользуемся функцией .count()"
   ]
  },
  {
   "cell_type": "code",
   "execution_count": 228,
   "id": "90787e4c",
   "metadata": {},
   "outputs": [
    {
     "name": "stdout",
     "output_type": "stream",
     "text": [
      "children\n",
      "0    14091\n",
      "1     4808\n",
      "2     2052\n",
      "3      330\n",
      "4       41\n",
      "5        9\n",
      "Name: debt, dtype: int64\n"
     ]
    }
   ],
   "source": [
    "print(data.groupby('children')['debt'].count())"
   ]
  },
  {
   "cell_type": "markdown",
   "id": "70a74188",
   "metadata": {},
   "source": [
    "Из полученных данных видим, что наибольшей группой кредитополучателей являются лица, не имеющие детей совсем. (14091 человек).\n",
    "В то же время количество семей, имеющих 5 детей, и взявших кредит - всего лишь 9.\n",
    "\n",
    "Теперь не удивительно, почему так много просрочек по кредиту у первой группы(не имеющих детей) и так мало у последних группы (у которых 4 или 5 детей).\n",
    "\n",
    "Но, как и было указано ранее, для подведения окончательных итогов - необходимо будет рассмотреть конверсию этих данных. "
   ]
  },
  {
   "cell_type": "markdown",
   "id": "c68a51c6",
   "metadata": {},
   "source": [
    "Учитывая рекомендацию, рассматриваем конверсию данных - используя функцию .mean().  \n",
    "    Для применения данной функции - группируем данные по столбцу 'children' и рассчитываем среднее значение в столбце 'debt' "
   ]
  },
  {
   "cell_type": "code",
   "execution_count": 230,
   "id": "9a0044a2",
   "metadata": {},
   "outputs": [
    {
     "name": "stdout",
     "output_type": "stream",
     "text": [
      "children\n",
      "5    0.000000\n",
      "0    0.075438\n",
      "3    0.081818\n",
      "1    0.092346\n",
      "2    0.094542\n",
      "4    0.097561\n",
      "Name: debt, dtype: float64\n"
     ]
    }
   ],
   "source": [
    "print(data.groupby('children')['debt'].mean().sort_values())"
   ]
  },
  {
   "cell_type": "markdown",
   "id": "36a39297",
   "metadata": {
    "deletable": false,
    "id": "3a6b99ec"
   },
   "source": [
    "Рассмотрев конверсию данных мы приходим практически к противоположному выводу, который хотелось сделать изначально.\n",
    "\n",
    "Согласно полученным данным - лишь **7.5%**  кредитополучателей (**не имеющих детей**) совершают просрочки по кредиту, \n",
    "в то же время, если рассмотреть категорию семей **с 4-мя детьми**, то из них почти **9,8%** семей совершают просрочки по кредиту.\n",
    "\n",
    "**Вывод:** \n",
    "\n",
    "1. Исследование выявило, что зависимость между количеством детей и возвратом кредита в срок - имеется!\n",
    "\n",
    "2. Кредитополучатели (**имеющие детей**), с большей вероятностью совершат просрочку по кредиту, чем кредитополучатели (**не имеющие детей вовсе**).\n",
    "\n",
    "*Исключением из данных будут семьи с 5 детьми.\n",
    "Данные семьи не совершали просрочек по платежам, но полученные данные нельзя сравнивать в общем контексте, так как данная категория кредитополучателей составляет ничтожную долю от общего числа кредитополучателей (0,04%).*\n"
   ]
  },
  {
   "cell_type": "markdown",
   "id": "5835ee11",
   "metadata": {},
   "source": [
    "Конечно «разбег» между \"цифрами\" в наших данных мал. **Возможно**, что в рамках имеющихся данных сделать вывод о том, что семьи с детьми относительно семей без оных имеют какие-то задержки в выплатах кредитов нельзя. Слишком уж близки доли, чуть измениться выборка и значения могут измениться в другую сторону. То есть можно сделать вывод, что сколь угодно значимой разницы между группами нет ... но даже небольшие разницы могут существенно сказываться на кредитном портфеле банка.\n",
    "\n",
    "Однако, если считать, что **любая** разница между группами есть повод для «разделения» классов, то я бы сделал такой вывод: кредитополучатели без детей являются более ответственными, чем клиенты, у которых есть дети. Видимо, наличие ребенка накладывает на клиента дополнительные финансовое бремя (обязательства) и клиенты либо менее ответственно относятся к своим кредитным обязательствам, либо не имеют возможности в срок оплачивать обязательства.\n",
    "\n",
    "Ну и что ещё можно увидеть в наших данных (агрегация «по count» в этом может помочь), то, что по некоторым группам заемщиков у нас недостаточно данных. Говорят, что выборка не сбалансирована, классы в выборке имеют разные размеры.\n",
    "\n",
    "И вот ещё какой важный момент – да, на больших суммах и маленькие доли процента выльются в значительные объемы. Но вообще, насколько я понимаю логику кредитного бизнеса, дело не в том, чтобы кому-то не давать денег, а в том, чтобы компенсировать риск выдачи кредитным процентом. То есть, потенциальный должник заплатит более высокий процент за использование кредита. Так что в этой задаче фактически рассматривается вопрос - повышать ли процент заемщику с детьми. И статистика, которая показывает, что человек с 4 детьми просрочит выплату примерно так же, как и с двумя, - она, на мой взгляд, не обосновывает ужесточение кредитных условий для семей с детьми. К тому же тут зафиксировано количество детей только на момент выдачи кредита, никто не гарантирует, что их не станет больше в течение срока выплаты. Таким образом из этих данных можно сделать скорее другой вывод: кредитный портфель бездетных (со сроками выданных кредитов по несколько лет) скорее всего со временем ухудшится по показателю возврата денег (какая-то часть бездетных заведут детей, и у них должников из 7,5% станет 9%). И тогда этот риск можно было бы закладывать заранее (но для этого хорошо было бы понимать, сколько бездетных перейдут в категорию «с детьми» в течение 5 лет, например).\n"
   ]
  },
  {
   "cell_type": "markdown",
   "id": "368b15de",
   "metadata": {
    "deletable": false,
    "editable": false,
    "id": "97be82ca"
   },
   "source": [
    "#### 3.2 Есть ли зависимость между семейным положением и возвратом кредита в срок?"
   ]
  },
  {
   "cell_type": "markdown",
   "id": "132bebbc",
   "metadata": {},
   "source": [
    "Для того чтобы определить, есть ли зависимость между семейным положением и возвратом кредита в срок - необходимо будет для начала сгруппировать данные по столбцу, в котором указано семейное положение (family_status) и посчитать суммарное количество просрочек по платежам, указанных в столбце (debt). Для наглядности, полученные данные отсортируем по убыванию."
   ]
  },
  {
   "cell_type": "code",
   "execution_count": 231,
   "id": "1ae90d72",
   "metadata": {
    "deletable": false,
    "id": "dc3f7ee8"
   },
   "outputs": [
    {
     "name": "stdout",
     "output_type": "stream",
     "text": [
      "family_status\n",
      "женат / замужем          927\n",
      "гражданский брак         385\n",
      "Не женат / не замужем    273\n",
      "в разводе                 84\n",
      "вдовец / вдова            63\n",
      "Name: debt, dtype: int64\n"
     ]
    }
   ],
   "source": [
    "print(data.groupby('family_status')['debt'].sum().sort_values(ascending=False)) "
   ]
  },
  {
   "cell_type": "markdown",
   "id": "782b4fe2",
   "metadata": {},
   "source": [
    "На первый взгляд кажется, что зависимость между семейным положением и возвратом кредита в срок - имеется.\n",
    "\n",
    "Категория Женатых/Замужних семей чаще допускают просрочки по кредитам, чем все остальные категории.\n",
    "\n",
    "Проверим данное предположение рассмотрев конверсию данных."
   ]
  },
  {
   "cell_type": "code",
   "execution_count": 232,
   "id": "91641aca",
   "metadata": {},
   "outputs": [
    {
     "name": "stdout",
     "output_type": "stream",
     "text": [
      "family_status\n",
      "женат / замужем          12261\n",
      "гражданский брак          4134\n",
      "Не женат / не замужем     2796\n",
      "в разводе                 1189\n",
      "вдовец / вдова             951\n",
      "Name: debt, dtype: int64\n"
     ]
    }
   ],
   "source": [
    "print(data.groupby('family_status')['debt'].count().sort_values(ascending=False)) \n",
    "# для начала ознакомимся с общим количеством кредитов у каждой категории кредитополучателей."
   ]
  },
  {
   "cell_type": "code",
   "execution_count": 234,
   "id": "a6bd9a2e",
   "metadata": {},
   "outputs": [
    {
     "name": "stdout",
     "output_type": "stream",
     "text": [
      "family_status\n",
      "Не женат / не замужем    0.097639\n",
      "в разводе                0.070648\n",
      "вдовец / вдова           0.066246\n",
      "гражданский брак         0.093130\n",
      "женат / замужем          0.075606\n",
      "Name: debt, dtype: float64\n"
     ]
    }
   ],
   "source": [
    "print(data.groupby('family_status')['debt'].mean())\n",
    "# определяем конверсию данных для каждой категории кредитополучаетелей (для каждого семейного положения)"
   ]
  },
  {
   "cell_type": "markdown",
   "id": "956682d4",
   "metadata": {
    "deletable": false,
    "id": "1cef7837"
   },
   "source": [
    "**Вывод:** \n",
    "\n",
    "1. Зависимость между семейным положением и возвратом кредита в срок - имеется!!\n",
    "\n",
    "2. **Наибольшую долю просрочек** по кредитам в процентном соотношении совершает категория **Не женатых/Не замужних** лиц. (9,7%)\n",
    "\n",
    "3. В то же время **Наименьшая доля просрочек** по кредитам у категории, относящейся к **Вдовам/Вдовцам**. (6,6%)\n",
    "\n",
    "\n",
    "4. Несмотря на то, что наибольшее количество просрочек было у категории **Женатых/Замужних** кредитополучателей (927) - в процентном соотношении всего **7,6%** семей из данной категории совершают просрочки по кредитам.\n",
    "\n",
    "\n"
   ]
  },
  {
   "cell_type": "markdown",
   "id": "70d05887",
   "metadata": {},
   "source": [
    "Если считать, что любая разница между группами есть повод для «разделения» классов ...) кредитному отделу следует с осторожностью относиться к клиентам, которые не состоят или не состояли в браке. Согласно данным такие клиенты менее ответственные. Получается, что узаконенные отношения (включая и бывшие отношения) ведут к более ответственному отношению к своим обязательствам. Ну вроде как совпадает со здравым смыслом - семейные люди более скрупулёзно берегут свой семейное спокойствие и несут за него ответственность.\n",
    "\n"
   ]
  },
  {
   "cell_type": "markdown",
   "id": "95d34c00",
   "metadata": {
    "deletable": false,
    "editable": false,
    "id": "1e8b2fca"
   },
   "source": [
    "#### 3.3 Есть ли зависимость между уровнем дохода и возвратом кредита в срок?"
   ]
  },
  {
   "cell_type": "markdown",
   "id": "5706fe0c",
   "metadata": {},
   "source": [
    "Для определния зависимости между уровнем дохода и возвратом кредита в срок воспользуемся ранее созданной категоризацией кредитополучателей.\n",
    "Ранее мы разделили всех клиентов на 5 групп, отличающихся уровнем дохода.\n",
    "\n",
    "Группы были поделены следующим образом:\n",
    "\n",
    "Кредитополучатели чей доход составляет: 0–30000 — 'E';\\\n",
    "Кредитополучатели чей доход составляет: 30001–50000 — 'D';\\\n",
    "Кредитополучатели чей доход составляет: 50001–200000 — 'C';\\\n",
    "Кредитополучатели чей доход составляет: 200001–1000000 — 'B';\\\n",
    "Кредитополучатели чей доход составляет: 1000001 и выше — 'A'."
   ]
  },
  {
   "cell_type": "code",
   "execution_count": 235,
   "id": "17afdf47",
   "metadata": {
    "deletable": false,
    "id": "cd7e3720"
   },
   "outputs": [
    {
     "name": "stdout",
     "output_type": "stream",
     "text": [
      "total_income_category\n",
      "C    1353\n",
      "B     354\n",
      "D      21\n",
      "A       2\n",
      "E       2\n",
      "Name: debt, dtype: int64\n"
     ]
    }
   ],
   "source": [
    "print(data.groupby('total_income_category')['debt'].sum().sort_values(ascending=False)) \n",
    "# группируем кредитополучателей по столбцу 'total_income_category'. Сортируем данные в порядке убывания."
   ]
  },
  {
   "cell_type": "markdown",
   "id": "d4df816e",
   "metadata": {},
   "source": [
    "Из полученных данных предполагаем, что в количественном выражении зависимость между уровнем дохода и возвратом кредита в срок присутствует.\n",
    "\n",
    "Наибольшую долю просрочек осуществляют лица, входящие в категорию \"С\", т.е. те, чей доход составляет от 50001-200000.\n",
    "\n",
    "При этом лица из категорий Е (чей доход до 30000) и А (чей доход более 1000001) - реже всего осуществляют просрочки по кредитам.\n",
    "\n",
    "Для того, чтобы проверить данные утверждения, необходимо рассмотреть конверсию данных."
   ]
  },
  {
   "cell_type": "code",
   "execution_count": 236,
   "id": "933dfa63",
   "metadata": {},
   "outputs": [
    {
     "name": "stdout",
     "output_type": "stream",
     "text": [
      "total_income_category\n",
      "C    15921\n",
      "B     5014\n",
      "D      349\n",
      "A       25\n",
      "E       22\n",
      "Name: debt, dtype: int64\n"
     ]
    }
   ],
   "source": [
    "print(data.groupby('total_income_category')['debt'].count().sort_values(ascending=False)) \n",
    "# для начала ознакомимся с общим количеством кредитов у каждой категории кредитополучателей"
   ]
  },
  {
   "cell_type": "markdown",
   "id": "07b5fb8f",
   "metadata": {},
   "source": [
    "Пока что ничего удивительного. Чаще всего кредиты берут лица чей доход составляет от 50001-200000."
   ]
  },
  {
   "cell_type": "code",
   "execution_count": 237,
   "id": "65abb144",
   "metadata": {},
   "outputs": [
    {
     "name": "stdout",
     "output_type": "stream",
     "text": [
      "total_income_category\n",
      "A    0.080000\n",
      "B    0.070602\n",
      "C    0.084982\n",
      "D    0.060172\n",
      "E    0.090909\n",
      "Name: debt, dtype: float64\n"
     ]
    }
   ],
   "source": [
    "print(data.groupby('total_income_category')['debt'].mean()) \n",
    "# Определяем среднюю конверсию данных для каждой категории кредитополучателей"
   ]
  },
  {
   "cell_type": "markdown",
   "id": "368cdd26",
   "metadata": {
    "deletable": false,
    "id": "e8593def"
   },
   "source": [
    "**Вывод:** \n",
    "В результате рассмотрения конверсии данных можно сделать однозначные выводы:\n",
    "\n",
    "1. Зависимость между уровнем дохода и просрочкой по кредитам - имеется!\n",
    "\n",
    "2. Не смотря на то, что в количественном выражении категория граждан \"Е\" с доходом (от 0-30000) реже всего берёт кредиты (всего 22 раза) - данная категория кредитополучаетей чаще допускает просрочки по кредитам (~9%).\n",
    "\n",
    "3. Наибольшей группой кредитополучателей является категория граждан \"C' с доходом (от 50001-200000).\n",
    "8,4% граждан из данной категории допускают просрочки по кредитам, что является довольно-таки большим значением.\n",
    "\n",
    "4. Наименьшее количество просрочек допускает категория \"D\" с доходом (от 30001–50000).\n",
    "\n",
    "5. На мой взгляд удивительно, что категория граждан \"А\" с доходом (от 1 000 001) не только берет кредиты, но ещё умудряется допускать просрочки по данным кредитам кредитам. Доля просрочек у данной категории составляет целых 8%."
   ]
  },
  {
   "cell_type": "markdown",
   "id": "6cf61685",
   "metadata": {},
   "source": [
    "На мой взгляд - это самый сложный вопрос (для интерпретации результатов) в этом проекте. \n",
    "\n",
    "Быстрый взгляд на данные (в случае графика - это конечно ещё более наглядным становиться): ожидаемо, для группы с низким доходом (Е) процент невозвратов самый высокий. Что более интересно, так это то, что с ростом доходов тенденция (D->C и B->А) к снижению числа долгов не сохраняется, а скорее даже растёт. Можно сказать, что по какой-то причине люди \"перестают считать деньги\" или планировать \"наперёд\". Из-за подобного поведения наших групп параметр (\"доход\") нельзя назвать надёжным при определении платёжеспособности клиента. Без дополнительной информации он может даже наоборот привести к выдаче кредита состоятельному, но не слишком \"надёжному\" клиенту, хотя, возможно, это может быть аномалия, вызванная недостаточным размером выборки для клиентов с категорией доходов А.    \n",
    "    \n",
    "А теперь мой вывод- дополнительный, альтернативный вариант: исходя из здравого смысла логично предположить, что чаще всего должниками становятся люди с небольшим доходом, которым финансовые проблемы не позволяют вовремя осуществлять платежи. Но глядя на наши результаты лично мой вывод таков: выборка по заемщикам, как с наименьшим доходом, так и с наибольшим крайне недостаточна для формирования однозначных выводов. Можно думать, что E-категория самая низкооплачиваемая не может корректно распоряжаться деньгами и «влезает» в кредиты, но тогда неясно почему у А-категории также достаточно высокий процент задолженности. В общем вывод по группам А и Е неочевиден, слишком мало данных.\n",
    "\n",
    "Если же взять для анализа только группы В, С и D, то по полученным данным не наблюдаем зависимости \"те, кто получает больше ЗП, лучше возвращает кредит». В целом это логично, так как материальный достаток - не единственная переменная, которая влияет на качество кредитной истории.\n",
    "\n",
    "p.s. Однако 2174 пропуска в данных столбца \"total_income\" ставят под сомнение полученный нами результат. Сводная таблица (или группировка) с данными о зависимости между уровнем дохода и возвратом кредита в срок возможно могла бы выглядеть иначе, если бы не пропущенные данные.\n"
   ]
  },
  {
   "cell_type": "markdown",
   "id": "7dcceddd",
   "metadata": {
    "deletable": false,
    "editable": false,
    "id": "99ecbd1f"
   },
   "source": [
    "#### 3.4 Как разные цели кредита влияют на его возврат в срок?"
   ]
  },
  {
   "cell_type": "markdown",
   "id": "52eb10dd",
   "metadata": {},
   "source": [
    "Для определения зависимости цели кредита на его возврат в срок воспользуемся ранее созданой категоризацией целей покупки, а именно столбцом 'purpose_category'.\n",
    "Для начала просчитаем сумму просроченных кредитов по каждой категории \"цели кредита\"."
   ]
  },
  {
   "cell_type": "code",
   "execution_count": 238,
   "id": "89911470",
   "metadata": {
    "deletable": false,
    "id": "2b687290"
   },
   "outputs": [
    {
     "name": "stdout",
     "output_type": "stream",
     "text": [
      "purpose_category\n",
      "операции с недвижимостью    780\n",
      "операции с автомобилем      400\n",
      "получение образования       369\n",
      "проведение свадьбы          183\n",
      "Name: debt, dtype: int64\n"
     ]
    }
   ],
   "source": [
    "print(data.groupby('purpose_category')['debt'].sum().sort_values(ascending=False)) \n",
    "# группируем по столбцу purpose_category. Сортируем по убыванию."
   ]
  },
  {
   "cell_type": "markdown",
   "id": "167d646e",
   "metadata": {},
   "source": [
    "Из полученных данных предполагаем, что в количественном выражении зависимость между целью кредита и его возвратом в срок присутствует.\n",
    "\n",
    "Кредиты взятые для целей операции с недвижимостью чаще допускают просрочку, чем кредиты взятые на проведение свадеб и кредиты для получения образования.\n",
    "\n",
    "Но для более качественного анализа также как и раньше рассмотрим конверсию данных. (соотношение просроченных кредитов ко всем взятым)."
   ]
  },
  {
   "cell_type": "code",
   "execution_count": 239,
   "id": "a732f1d1",
   "metadata": {},
   "outputs": [
    {
     "name": "stdout",
     "output_type": "stream",
     "text": [
      "purpose_category\n",
      "операции с недвижимостью    10751\n",
      "операции с автомобилем       4279\n",
      "получение образования        3988\n",
      "проведение свадьбы           2313\n",
      "Name: debt, dtype: int64\n"
     ]
    }
   ],
   "source": [
    "print(data.groupby('purpose_category')['debt'].count().sort_values(ascending=False)) \n",
    "# ознакомимся с общим количеством взятых кредитов для каждой цели "
   ]
  },
  {
   "cell_type": "markdown",
   "id": "eac9d545",
   "metadata": {},
   "source": [
    "Опять же - ничего удивительного. Чаще всего берут кредиты для операций с недвижимостью."
   ]
  },
  {
   "cell_type": "code",
   "execution_count": 240,
   "id": "7981b860",
   "metadata": {},
   "outputs": [
    {
     "name": "stdout",
     "output_type": "stream",
     "text": [
      "purpose_category\n",
      "операции с автомобилем      0.093480\n",
      "операции с недвижимостью    0.072551\n",
      "получение образования       0.092528\n",
      "проведение свадьбы          0.079118\n",
      "Name: debt, dtype: float64\n"
     ]
    }
   ],
   "source": [
    "print(data.groupby('purpose_category')['debt'].mean())\n",
    "# Определяем среднюю конверсию данных для каждой категории цели кредита"
   ]
  },
  {
   "cell_type": "markdown",
   "id": "1b463806",
   "metadata": {
    "deletable": false,
    "id": "b4bb2ce6"
   },
   "source": [
    "**Вывод:** \n",
    "\n",
    "1. Цели кредита и вправду влиют на то, будут ли они возвращены в срок или нет.\n",
    "2. **Наибольшая доля просрочек** приходится по кредитам, которые взяты для **операций с автомобилем** (Покупка, ремонт). **(9,3%)**\n",
    "3. Вторым по опасности (по мнению Банка) будут кредиты для целей образования. По ним допускаются просрочки с вероятностью в **9,25%**\n",
    "4. Несмотря на то, что наибольшее количество кредитов берутся для **операций с недвижимостью** - (10751), по данным целям кредита кредитополучатели **реже всего допускают просрочки**. Всего **(7,2%)** просрочек приходится на данный вид кредита."
   ]
  },
  {
   "cell_type": "markdown",
   "id": "77a191fd",
   "metadata": {
    "deletable": false,
    "editable": false,
    "id": "09c3ac4c"
   },
   "source": [
    "#### 3.5 Приведите возможные причины появления пропусков в исходных данных."
   ]
  },
  {
   "cell_type": "markdown",
   "id": "e3b0cddd",
   "metadata": {
    "deletable": false,
    "id": "9da2ceda"
   },
   "source": [
    "\n"
   ]
  },
  {
   "cell_type": "markdown",
   "id": "c54ad04d",
   "metadata": {},
   "source": [
    "Для определения возможных причин появления пропусков в исходных данных попробуем ознакомится с самими данными.    \n",
    "    Рассмотрев ещё раз проект, а именно: Раздел 2. Подраздел 2.1. задание №4. \n",
    "    Можем увидеть, что пропуски в данных были только в двух столбцах:\n",
    "        \n",
    "    -days_employed - общий трудовой стаж в днях\n",
    "    -total_income - ежемесячный доход.\n",
    "Начнем мини-исследование:\\\n",
    "Прежде, чем изучить данные, попробуем составить логические предположения, почему в данных столбцах могут отсутствовать данные?\\\n",
    "Одно из предположений может звучать так:\\\n",
    "**\"отсутствие данных в столбцах связано с тем, что, вероятно, у данных кредитополучателей трудовой стаж отсутствует совсем\".**\\\n",
    "т.е. другими словами - данный клиент:\\\n",
    "-либо никогда в жизни не работал.\\\n",
    "-либо же никогда не работал \"Официально\".\\\n",
    "Второе предположение звучит так:\\\n",
    "**\"отсутсвие данных в столбах связано с тем, что, вероятно, сотрудники банка или клиенты забыли внести или предоставить необходимые данные\"**\\\n",
    "в таком случае, вероятно в данных мы увидим, что данные по стажу будут отсутствовать в одних строках, а данные по ежемесячному доходу будут отсутствовать в других строках.\n",
    "\n",
    "Для проверки данных гипотез попробуем вывести все строки датафрейма, содержащие отсутствующие значения (значеия - NaN).\\\n",
    "Данное мини-исследование проведем как раз в Разделе 2. Подразделе 2.1. После задания №4, до момента, когда эти отсутствующие данные мы заменим медианными значениями. (см. выше по проекту).\n",
    "\n",
    "Написав дополнительную функцию и получив строки с отсутствующими значениями мы обнаружили интересные закономерности.\n",
    "\n",
    "1. **Отсутствие данных в столбцах 'days_employed' и 'total_income' полностью взаимосвязано!**.\n",
    "\n",
    "В случае, если бы эти столбцы не были взаимосвязаны - можно было бы предположить, что кредитополучатель просто напрасто забыл предоставить сотруднику банку одну из данных справок или предоставил не подтвержденную справку о доходах или стаже.\n",
    "\n",
    "Однако в нашем случае данные столбцы взаимосвязаны.\n",
    "\n",
    "Таким образом можно сделать логическое предположение, что графы 'days_employed' и 'total_income' - заполняются сотрудниками банка только в том случае, если кредитополучатель официально подтвердил свой трудовой стаж и наличие доходов.\n",
    "\n",
    "1) Если бы данные кредитополучатели были бы *'безработными'*(и соответственно без доходов) - в таком случае у них в столбце income_type стояла бы пометка 'безработный'.\\\n",
    "Однако, как мы видим данное предположение *не подтверждается*.\\\n",
    "Если рассмотреть данные подробнее, можно увидеть, что столбец 'income_type' у данных клиентов *не соответствует* статусу 'безработный'.\n",
    "\n",
    "2) Второе предположение, можно сделать такое:\\\n",
    "Отсутствие данных в столбце 'total_income' связано с отсутствием данных в столбце 'days_employed', потому что, данные кредитополучатели *никогда в жизни не работали*.\\\n",
    "Чтобы проверить данную теорию вновь ознакомимся с той же таблицей.\\\n",
    "Как мы можем увидеть, НЕТ определенно четкой закономерности по возрасту у тех клиентов, у которых отсутствуют данные в этих столбцах.(т.е. есть и молодые люди и люди возрастной категории)\\\n",
    "соответственно сделать предположение, что данные кредитополучатели никогда в жизни не работали - *нельзя*!\n",
    "\n",
    "3) Последнее предположение звучало бы так:\\\n",
    "Вероятно отсутствие данных связано с тем, что данные клиенты ***никогда не работали 'Официально'.***\\\n",
    "В таком случае понятно, почему столбец с описанием общего трудового стажа отсутствует у данных клиентов, и в прицнипе, почему графа ежемесячного дохода для этих клиентов также пуста.\\\n",
    "Вероятно данные клиенты получают зарплату - 'Не официально' и, следовательно, хоть и имеют ежемесячый доход, они данный доход не могут подтвердить официально.(т.е. условно говоря, они получают зарплату \"в конвертах\").\n",
    "\n",
    "Объединяя всё выше описанное можно попробовать сделать окончательное предположение:\n",
    "\n",
    "**Проведя исследование, мы выяснили что отсутствие значений доходов и стажа у некоторых клиентов:**\\\n",
    "***1. Нельзя отнести к тому, что все данные клиенты являются безработными*** (иначе в графе стоял бы статус безработного).\\\n",
    "***2. Вероятно, отсутствие этих данных связано с тем, что данные кредитополучатели работают 'Не официально'.***\\\n",
    "(т.е. не могут официально подтвердить свой трудовой стаж и свой ежемесячный доход)"
   ]
  },
  {
   "cell_type": "markdown",
   "id": "3a57227f",
   "metadata": {
    "deletable": false,
    "editable": false,
    "id": "7b0487d6"
   },
   "source": [
    "#### 3.6 Объясните, почему заполнить пропуски медианным значением — лучшее решение для количественных переменных."
   ]
  },
  {
   "cell_type": "markdown",
   "id": "398eb024",
   "metadata": {
    "deletable": false,
    "id": "7ecf2b8e"
   },
   "source": [
    "*Ответ:* Среднее значение некорректно характеризует данные, когда некоторые значения сильно выделяются среди большинства. \n",
    "\n",
    "Можно взять пример из теории:\n",
    "Например, 5 сотрудников компании получают зарплату 100 000 рублей. \n",
    "\n",
    "Инвестор пригласил директора по маркетингу с зарплатой 300 000 рублей.\n",
    "\n",
    "Если считать среднюю зарплату - она составит 133 333,33 рублей, хотя по факту, зарплата у 5 сотрудников осталась той же. (100000).\n",
    "\n",
    "При расчете медианы - таких проблем не возникает, так как медиана рассчитает среднее из \"срединных значений\". \n",
    "\n",
    "[100, 100, 100, 'MEDIANA' 100, 100, 300]\n",
    "\n",
    "Вывод: для количественных переменных медианное значение подойдет лучше, так как не будет учитывать сильно выделяющиеся (странные) значения."
   ]
  },
  {
   "cell_type": "markdown",
   "id": "7f5267c7",
   "metadata": {
    "deletable": false,
    "editable": false,
    "id": "6db5255a"
   },
   "source": [
    "### Шаг 4: общий вывод."
   ]
  },
  {
   "cell_type": "markdown",
   "id": "cac2d1ec",
   "metadata": {
    "deletable": false,
    "id": "bad65432"
   },
   "source": [
    "**Вывод**\n",
    "\n",
    "В данном проекте производилось исследование надежности заемщиков Банка.\n",
    "\n",
    "Нами была рассмотрена таблица с данными о кредитополучателях.\n",
    "\n",
    "Произведя нехитрые операции по обработке данных - нам удалось осуществить некоторые наблюдения, и на их основании составить некоторые утверждения.\n",
    "Данные утверждения в теории в будущем могут помочь составить кредитный рейтинг потенциального кредитополучателя.\n",
    "\n",
    "Обращается особое внимание, что на эти данные, как и на любые другие данные (в век цифровых технологий), можно надеяться только в определенной степени, так как они не могут учитывать всех обстоятельств каждого по отдельности кредитополучателя, а также не могут учитывать надежность будущих потенциальных кредитополучателей.\n",
    "\n",
    "Также обращается внимание, что полученные данные и сделанные на их основе выводы актуальны только в момент проведения данных измерений. В дальнейшем выводы могут быть другими.\n",
    "\n",
    "Учитывая всё вышеописанное можно привести некоторые из сделанных выводов, полученных в ходе исследования:\n",
    "\n",
    "1. Возвраты кредитов в срок зависят от многих обстоятельств, в том числе:\n",
    "\\\n",
    "    1.1. От количества детей у кредитополучателей.\\\n",
    "    1.2. От семейного положения кредитополучателей.\\\n",
    "    1.3. От уровня дохода у кредитополучателей.\\\n",
    "    1.4. От целей получения кредита и т.д.\n",
    "\n",
    "\n",
    "2. Было определено, что в **процентном** соотношении - кредитополучатели имеющие детей, с большой вероятностью будут допускать просрочки по платежам, нежели кредитополучатели, не имеющие детей.\n",
    "При этом в **количественном** выражении, именно кредитополучатели без детей совершили больше всего просрочек по платежам.\n",
    "\n",
    "\n",
    "3. Те же пропорции сохраняются и для критерия семейного положения кредитополучателей.\n",
    "Наибольшее **количество** пропущенных платежей по кредитам приходится на категорию Женатых/Замужних граждан.\n",
    "При этом в **процентном** соотношении самыми неблагополучными в плане возврата кредитов в срок - являются Не Женатые/Не замужние граждане. **(9,7%).**\n",
    "\n",
    "\n",
    "4. Не смотря на то, что в **количественном** выражении категория граждан с доходом (от 0-30000) реже всего берёт кредиты (всего 22 раза) - данная категория кредитополучаетей чаще допускает просрочки по кредитам **(~9%)**.\n",
    "Наибольшей группой кредитополучателей является категория граждан с доходом (от 50001-200000). 8,4% граждан из данной категории допускают просрочки по кредитам, что является довольно-таки большим значением.\n",
    "Наименьшее количество просрочек допускает категория граждан с доходом (от 30001–50000).\n",
    "\n",
    "\n",
    "5. Также, было определено, что **наибольшая доля просрочек** приходится по кредитам, которые были взяты для **операций с автомобилем** (Покупка, ремонт). **(9,3%)**\n",
    "Вторым по неблагонадежности для Банка будут кредиты для целей образования. По ним допускаются просрочки с вероятностью в 9,25%\n",
    "Несмотря на то, что наибольшее количество кредитов берутся для **операций с недвижимостью** - (10751), по данным целям кредита кредитополучатели **реже всего допускают просрочки**. Всего **(7,2%)** просрочек приходится на данный вид кредита.\n",
    "\n",
    "\n",
    "Для составляения правильного кредитного потенциала для заемщиков этих данных недостаточно.\n",
    "Однако, как можно было заметить, из полученных данных можно выявить некоторые закономерности, которые потенциально можно будет использовать при следующих исследованиях.\n",
    "\n",
    "\n",
    "***Данное исследование подтвердило наше предположение, что с данными можно и нужно работать и в них можно отслеживать интересные закономерности, которые потенциально могут принести прибыль компании или же спасти её от потенциальных убытков.***"
   ]
  },
  {
   "cell_type": "markdown",
   "id": "5d867075",
   "metadata": {},
   "source": [
    "С уважением,\n",
    "\n",
    "\n",
    "Степанян Ваган Сергеевич"
   ]
  }
 ],
 "metadata": {
  "ExecuteTimeLog": [
   {
    "duration": 427,
    "start_time": "2022-12-15T13:38:16.737Z"
   },
   {
    "duration": 23,
    "start_time": "2022-12-15T13:38:18.369Z"
   },
   {
    "duration": 16,
    "start_time": "2022-12-15T13:38:20.662Z"
   },
   {
    "duration": 11,
    "start_time": "2022-12-15T13:38:22.922Z"
   },
   {
    "duration": 31,
    "start_time": "2022-12-15T13:38:24.114Z"
   },
   {
    "duration": 3,
    "start_time": "2022-12-15T13:38:25.463Z"
   },
   {
    "duration": 8,
    "start_time": "2022-12-15T13:38:26.850Z"
   },
   {
    "duration": 5,
    "start_time": "2022-12-15T13:38:28.543Z"
   },
   {
    "duration": 6,
    "start_time": "2022-12-15T13:38:30.554Z"
   },
   {
    "duration": 5,
    "start_time": "2022-12-15T13:38:32.207Z"
   },
   {
    "duration": 41,
    "start_time": "2022-12-15T13:38:33.855Z"
   },
   {
    "duration": 11,
    "start_time": "2022-12-15T13:38:34.851Z"
   },
   {
    "duration": 3,
    "start_time": "2022-12-15T13:38:36.485Z"
   },
   {
    "duration": 11,
    "start_time": "2022-12-15T13:38:37.881Z"
   },
   {
    "duration": 19,
    "start_time": "2022-12-15T13:38:38.715Z"
   },
   {
    "duration": 24,
    "start_time": "2022-12-15T13:38:39.324Z"
   },
   {
    "duration": 3,
    "start_time": "2022-12-15T13:38:43.121Z"
   },
   {
    "duration": 10,
    "start_time": "2022-12-15T13:38:44.143Z"
   },
   {
    "duration": 5,
    "start_time": "2022-12-15T13:38:45.701Z"
   },
   {
    "duration": 3,
    "start_time": "2022-12-15T13:38:47.214Z"
   },
   {
    "duration": 8,
    "start_time": "2022-12-15T13:38:48.011Z"
   },
   {
    "duration": 3,
    "start_time": "2022-12-15T13:43:01.077Z"
   },
   {
    "duration": 13,
    "start_time": "2022-12-15T13:43:23.839Z"
   },
   {
    "duration": 6,
    "start_time": "2022-12-15T13:43:46.774Z"
   },
   {
    "duration": 51,
    "start_time": "2022-12-15T13:46:04.752Z"
   },
   {
    "duration": 6,
    "start_time": "2022-12-15T14:04:13.519Z"
   },
   {
    "duration": 7,
    "start_time": "2022-12-15T14:04:45.658Z"
   },
   {
    "duration": 7,
    "start_time": "2022-12-15T14:04:55.279Z"
   },
   {
    "duration": 7,
    "start_time": "2022-12-15T14:11:42.128Z"
   },
   {
    "duration": 4,
    "start_time": "2022-12-15T14:13:44.399Z"
   },
   {
    "duration": 11,
    "start_time": "2022-12-15T14:13:54.932Z"
   },
   {
    "duration": 5,
    "start_time": "2022-12-15T14:36:26.843Z"
   },
   {
    "duration": 6,
    "start_time": "2022-12-15T14:44:55.674Z"
   },
   {
    "duration": 6,
    "start_time": "2022-12-15T14:45:01.622Z"
   },
   {
    "duration": 7,
    "start_time": "2022-12-15T14:45:16.614Z"
   },
   {
    "duration": 7,
    "start_time": "2022-12-15T14:45:32.171Z"
   },
   {
    "duration": 9,
    "start_time": "2022-12-15T14:47:20.081Z"
   },
   {
    "duration": 53,
    "start_time": "2022-12-15T14:47:44.894Z"
   },
   {
    "duration": 59,
    "start_time": "2022-12-15T14:47:51.832Z"
   },
   {
    "duration": 7,
    "start_time": "2022-12-15T14:47:59.594Z"
   },
   {
    "duration": 65,
    "start_time": "2022-12-15T15:26:02.401Z"
   },
   {
    "duration": 6,
    "start_time": "2022-12-15T15:26:06.656Z"
   },
   {
    "duration": 9,
    "start_time": "2022-12-15T15:26:08.237Z"
   },
   {
    "duration": 6,
    "start_time": "2022-12-15T15:26:20.133Z"
   },
   {
    "duration": 6,
    "start_time": "2022-12-15T15:26:31.046Z"
   },
   {
    "duration": 9,
    "start_time": "2022-12-15T15:27:31.304Z"
   },
   {
    "duration": 78,
    "start_time": "2022-12-15T15:28:00.464Z"
   },
   {
    "duration": 9,
    "start_time": "2022-12-15T15:28:11.592Z"
   },
   {
    "duration": 8,
    "start_time": "2022-12-15T15:29:14.631Z"
   },
   {
    "duration": 7,
    "start_time": "2022-12-15T15:29:29.300Z"
   },
   {
    "duration": 7,
    "start_time": "2022-12-15T15:31:02.626Z"
   },
   {
    "duration": 8,
    "start_time": "2022-12-15T15:31:10.028Z"
   },
   {
    "duration": 11,
    "start_time": "2022-12-15T15:51:25.507Z"
   },
   {
    "duration": 7,
    "start_time": "2022-12-15T15:52:04.324Z"
   },
   {
    "duration": 6,
    "start_time": "2022-12-15T16:06:30.195Z"
   },
   {
    "duration": 8,
    "start_time": "2022-12-15T16:10:17.092Z"
   },
   {
    "duration": 7,
    "start_time": "2022-12-15T16:32:40.909Z"
   },
   {
    "duration": 7,
    "start_time": "2022-12-15T16:39:41.972Z"
   },
   {
    "duration": 10,
    "start_time": "2022-12-15T16:42:38.138Z"
   },
   {
    "duration": 445,
    "start_time": "2022-12-15T18:47:37.132Z"
   },
   {
    "duration": 24,
    "start_time": "2022-12-15T18:47:37.579Z"
   },
   {
    "duration": 17,
    "start_time": "2022-12-15T18:47:37.605Z"
   },
   {
    "duration": 12,
    "start_time": "2022-12-15T18:47:37.625Z"
   },
   {
    "duration": 63,
    "start_time": "2022-12-15T18:47:37.638Z"
   },
   {
    "duration": 3,
    "start_time": "2022-12-15T18:47:37.703Z"
   },
   {
    "duration": 12,
    "start_time": "2022-12-15T18:47:37.708Z"
   },
   {
    "duration": 5,
    "start_time": "2022-12-15T18:47:37.722Z"
   },
   {
    "duration": 9,
    "start_time": "2022-12-15T18:47:37.729Z"
   },
   {
    "duration": 4,
    "start_time": "2022-12-15T18:47:37.741Z"
   },
   {
    "duration": 65,
    "start_time": "2022-12-15T18:47:37.747Z"
   },
   {
    "duration": 10,
    "start_time": "2022-12-15T18:47:37.814Z"
   },
   {
    "duration": 4,
    "start_time": "2022-12-15T18:47:37.826Z"
   },
   {
    "duration": 14,
    "start_time": "2022-12-15T18:47:37.832Z"
   },
   {
    "duration": 44,
    "start_time": "2022-12-15T18:47:37.848Z"
   },
   {
    "duration": 18,
    "start_time": "2022-12-15T18:47:37.894Z"
   },
   {
    "duration": 4,
    "start_time": "2022-12-15T18:47:37.914Z"
   },
   {
    "duration": 18,
    "start_time": "2022-12-15T18:47:37.919Z"
   },
   {
    "duration": 11,
    "start_time": "2022-12-15T18:47:37.939Z"
   },
   {
    "duration": 4,
    "start_time": "2022-12-15T18:47:37.952Z"
   },
   {
    "duration": 10,
    "start_time": "2022-12-15T18:47:37.978Z"
   },
   {
    "duration": 10,
    "start_time": "2022-12-15T18:47:37.989Z"
   },
   {
    "duration": 6,
    "start_time": "2022-12-15T18:47:38.000Z"
   },
   {
    "duration": 8,
    "start_time": "2022-12-15T18:47:38.007Z"
   },
   {
    "duration": 8,
    "start_time": "2022-12-15T18:47:38.017Z"
   },
   {
    "duration": 10,
    "start_time": "2022-12-15T18:47:38.027Z"
   },
   {
    "duration": 47,
    "start_time": "2022-12-15T18:47:38.039Z"
   },
   {
    "duration": 7,
    "start_time": "2022-12-15T18:47:38.089Z"
   },
   {
    "duration": 6,
    "start_time": "2022-12-15T18:47:38.098Z"
   },
   {
    "duration": 12,
    "start_time": "2022-12-15T18:47:38.105Z"
   },
   {
    "duration": 7,
    "start_time": "2022-12-15T18:47:38.119Z"
   },
   {
    "duration": 9,
    "start_time": "2022-12-15T18:47:38.127Z"
   },
   {
    "duration": 41,
    "start_time": "2022-12-15T18:47:38.138Z"
   },
   {
    "duration": 45,
    "start_time": "2022-12-16T09:58:27.513Z"
   },
   {
    "duration": 507,
    "start_time": "2022-12-16T09:58:39.101Z"
   },
   {
    "duration": 21,
    "start_time": "2022-12-16T09:58:39.610Z"
   },
   {
    "duration": 14,
    "start_time": "2022-12-16T09:58:39.632Z"
   },
   {
    "duration": 9,
    "start_time": "2022-12-16T09:58:39.648Z"
   },
   {
    "duration": 33,
    "start_time": "2022-12-16T09:58:39.659Z"
   },
   {
    "duration": 3,
    "start_time": "2022-12-16T09:58:39.694Z"
   },
   {
    "duration": 13,
    "start_time": "2022-12-16T09:58:39.698Z"
   },
   {
    "duration": 4,
    "start_time": "2022-12-16T09:58:39.713Z"
   },
   {
    "duration": 14,
    "start_time": "2022-12-16T09:58:39.718Z"
   },
   {
    "duration": 20,
    "start_time": "2022-12-16T09:58:39.734Z"
   },
   {
    "duration": 32,
    "start_time": "2022-12-16T09:58:39.755Z"
   },
   {
    "duration": 9,
    "start_time": "2022-12-16T09:58:39.788Z"
   },
   {
    "duration": 4,
    "start_time": "2022-12-16T09:58:39.799Z"
   },
   {
    "duration": 11,
    "start_time": "2022-12-16T09:58:39.804Z"
   },
   {
    "duration": 44,
    "start_time": "2022-12-16T09:58:39.817Z"
   },
   {
    "duration": 16,
    "start_time": "2022-12-16T09:58:39.862Z"
   },
   {
    "duration": 4,
    "start_time": "2022-12-16T09:58:39.879Z"
   },
   {
    "duration": 15,
    "start_time": "2022-12-16T09:58:39.884Z"
   },
   {
    "duration": 6,
    "start_time": "2022-12-16T09:58:39.900Z"
   },
   {
    "duration": 6,
    "start_time": "2022-12-16T09:58:39.907Z"
   },
   {
    "duration": 11,
    "start_time": "2022-12-16T09:58:39.915Z"
   },
   {
    "duration": 29,
    "start_time": "2022-12-16T09:58:39.928Z"
   },
   {
    "duration": 8,
    "start_time": "2022-12-16T09:58:39.959Z"
   },
   {
    "duration": 8,
    "start_time": "2022-12-16T09:58:39.969Z"
   },
   {
    "duration": 4,
    "start_time": "2022-12-16T09:58:39.979Z"
   },
   {
    "duration": 9,
    "start_time": "2022-12-16T09:58:39.985Z"
   },
   {
    "duration": 11,
    "start_time": "2022-12-16T09:58:39.996Z"
   },
   {
    "duration": 16,
    "start_time": "2022-12-16T09:58:40.009Z"
   },
   {
    "duration": 26,
    "start_time": "2022-12-16T09:58:40.027Z"
   },
   {
    "duration": 7,
    "start_time": "2022-12-16T09:58:40.055Z"
   },
   {
    "duration": 13,
    "start_time": "2022-12-16T09:58:40.063Z"
   },
   {
    "duration": 8,
    "start_time": "2022-12-16T09:58:40.077Z"
   },
   {
    "duration": 7,
    "start_time": "2022-12-16T09:58:40.087Z"
   },
   {
    "duration": 16,
    "start_time": "2022-12-16T09:58:40.095Z"
   },
   {
    "duration": 2,
    "start_time": "2022-12-16T11:33:20.651Z"
   },
   {
    "duration": 2,
    "start_time": "2022-12-16T11:39:35.942Z"
   },
   {
    "duration": 4,
    "start_time": "2022-12-16T11:41:14.630Z"
   },
   {
    "duration": 11,
    "start_time": "2022-12-16T11:41:39.752Z"
   },
   {
    "duration": 8,
    "start_time": "2022-12-16T11:41:40.542Z"
   },
   {
    "duration": 2,
    "start_time": "2022-12-16T11:41:56.765Z"
   },
   {
    "duration": 2,
    "start_time": "2022-12-16T11:42:14.309Z"
   },
   {
    "duration": 3,
    "start_time": "2022-12-16T11:43:49.083Z"
   },
   {
    "duration": 6,
    "start_time": "2022-12-16T11:44:12.667Z"
   },
   {
    "duration": 2,
    "start_time": "2022-12-16T11:47:47.543Z"
   },
   {
    "duration": 7,
    "start_time": "2022-12-16T11:48:06.602Z"
   },
   {
    "duration": 7,
    "start_time": "2022-12-16T11:48:38.064Z"
   },
   {
    "duration": 68,
    "start_time": "2022-12-16T11:50:36.719Z"
   },
   {
    "duration": 7,
    "start_time": "2022-12-16T11:50:42.927Z"
   },
   {
    "duration": 11,
    "start_time": "2022-12-16T12:01:39.276Z"
   },
   {
    "duration": 5,
    "start_time": "2022-12-16T12:04:23.066Z"
   },
   {
    "duration": 5,
    "start_time": "2022-12-16T12:04:34.290Z"
   },
   {
    "duration": 5,
    "start_time": "2022-12-16T12:04:41.000Z"
   },
   {
    "duration": 5,
    "start_time": "2022-12-16T12:05:00.113Z"
   },
   {
    "duration": 74,
    "start_time": "2022-12-16T12:07:51.167Z"
   },
   {
    "duration": 21,
    "start_time": "2022-12-16T12:17:23.269Z"
   },
   {
    "duration": 23,
    "start_time": "2022-12-16T12:17:48.525Z"
   },
   {
    "duration": 24,
    "start_time": "2022-12-16T12:17:54.656Z"
   },
   {
    "duration": 27,
    "start_time": "2022-12-16T12:20:38.380Z"
   },
   {
    "duration": 186,
    "start_time": "2022-12-16T12:21:02.257Z"
   },
   {
    "duration": 22,
    "start_time": "2022-12-16T12:21:02.446Z"
   },
   {
    "duration": 68,
    "start_time": "2022-12-16T12:21:02.469Z"
   },
   {
    "duration": 27,
    "start_time": "2022-12-16T12:21:02.541Z"
   },
   {
    "duration": 43,
    "start_time": "2022-12-16T12:21:02.571Z"
   },
   {
    "duration": 0,
    "start_time": "2022-12-16T12:21:02.617Z"
   },
   {
    "duration": 0,
    "start_time": "2022-12-16T12:21:02.619Z"
   },
   {
    "duration": 0,
    "start_time": "2022-12-16T12:21:02.621Z"
   },
   {
    "duration": 0,
    "start_time": "2022-12-16T12:21:02.622Z"
   },
   {
    "duration": 0,
    "start_time": "2022-12-16T12:21:02.623Z"
   },
   {
    "duration": 0,
    "start_time": "2022-12-16T12:21:02.626Z"
   },
   {
    "duration": 0,
    "start_time": "2022-12-16T12:21:02.627Z"
   },
   {
    "duration": 0,
    "start_time": "2022-12-16T12:21:02.628Z"
   },
   {
    "duration": 0,
    "start_time": "2022-12-16T12:21:02.630Z"
   },
   {
    "duration": 0,
    "start_time": "2022-12-16T12:21:02.631Z"
   },
   {
    "duration": 0,
    "start_time": "2022-12-16T12:21:02.632Z"
   },
   {
    "duration": 0,
    "start_time": "2022-12-16T12:21:02.634Z"
   },
   {
    "duration": 0,
    "start_time": "2022-12-16T12:21:02.636Z"
   },
   {
    "duration": 0,
    "start_time": "2022-12-16T12:21:02.637Z"
   },
   {
    "duration": 0,
    "start_time": "2022-12-16T12:21:02.639Z"
   },
   {
    "duration": 0,
    "start_time": "2022-12-16T12:21:02.641Z"
   },
   {
    "duration": 0,
    "start_time": "2022-12-16T12:21:02.642Z"
   },
   {
    "duration": 0,
    "start_time": "2022-12-16T12:21:02.644Z"
   },
   {
    "duration": 0,
    "start_time": "2022-12-16T12:21:02.645Z"
   },
   {
    "duration": 1,
    "start_time": "2022-12-16T12:21:02.652Z"
   },
   {
    "duration": 0,
    "start_time": "2022-12-16T12:21:02.654Z"
   },
   {
    "duration": 0,
    "start_time": "2022-12-16T12:21:02.656Z"
   },
   {
    "duration": 0,
    "start_time": "2022-12-16T12:21:02.658Z"
   },
   {
    "duration": 0,
    "start_time": "2022-12-16T12:21:02.659Z"
   },
   {
    "duration": 0,
    "start_time": "2022-12-16T12:21:02.660Z"
   },
   {
    "duration": 0,
    "start_time": "2022-12-16T12:21:02.661Z"
   },
   {
    "duration": 0,
    "start_time": "2022-12-16T12:21:02.663Z"
   },
   {
    "duration": 0,
    "start_time": "2022-12-16T12:21:02.664Z"
   },
   {
    "duration": 0,
    "start_time": "2022-12-16T12:21:02.666Z"
   },
   {
    "duration": 0,
    "start_time": "2022-12-16T12:21:02.667Z"
   },
   {
    "duration": 0,
    "start_time": "2022-12-16T12:21:02.668Z"
   },
   {
    "duration": 8,
    "start_time": "2022-12-16T12:21:27.981Z"
   },
   {
    "duration": 5,
    "start_time": "2022-12-16T12:21:36.983Z"
   },
   {
    "duration": 282,
    "start_time": "2022-12-16T12:23:38.643Z"
   },
   {
    "duration": 296,
    "start_time": "2022-12-16T12:23:49.570Z"
   },
   {
    "duration": 3,
    "start_time": "2022-12-16T12:24:47.674Z"
   },
   {
    "duration": 9,
    "start_time": "2022-12-16T12:28:21.547Z"
   },
   {
    "duration": 8,
    "start_time": "2022-12-16T12:28:29.734Z"
   },
   {
    "duration": 3,
    "start_time": "2022-12-16T12:33:07.324Z"
   },
   {
    "duration": 8,
    "start_time": "2022-12-16T12:42:32.555Z"
   },
   {
    "duration": 3,
    "start_time": "2022-12-16T12:42:41.546Z"
   },
   {
    "duration": 6,
    "start_time": "2022-12-16T12:58:05.483Z"
   },
   {
    "duration": 6,
    "start_time": "2022-12-16T12:58:11.695Z"
   },
   {
    "duration": 83,
    "start_time": "2022-12-16T13:12:08.201Z"
   },
   {
    "duration": 17,
    "start_time": "2022-12-16T13:12:08.286Z"
   },
   {
    "duration": 21,
    "start_time": "2022-12-16T13:12:08.305Z"
   },
   {
    "duration": 27,
    "start_time": "2022-12-16T13:12:08.328Z"
   },
   {
    "duration": 20,
    "start_time": "2022-12-16T13:12:08.357Z"
   },
   {
    "duration": 46,
    "start_time": "2022-12-16T13:12:08.379Z"
   },
   {
    "duration": 4,
    "start_time": "2022-12-16T13:12:08.427Z"
   },
   {
    "duration": 29,
    "start_time": "2022-12-16T13:12:08.433Z"
   },
   {
    "duration": 9,
    "start_time": "2022-12-16T13:12:08.464Z"
   },
   {
    "duration": 6,
    "start_time": "2022-12-16T13:12:08.475Z"
   },
   {
    "duration": 9,
    "start_time": "2022-12-16T13:12:08.483Z"
   },
   {
    "duration": 41,
    "start_time": "2022-12-16T13:12:08.494Z"
   },
   {
    "duration": 20,
    "start_time": "2022-12-16T13:12:08.536Z"
   },
   {
    "duration": 4,
    "start_time": "2022-12-16T13:12:08.557Z"
   },
   {
    "duration": 17,
    "start_time": "2022-12-16T13:12:08.562Z"
   },
   {
    "duration": 38,
    "start_time": "2022-12-16T13:12:08.581Z"
   },
   {
    "duration": 18,
    "start_time": "2022-12-16T13:12:08.621Z"
   },
   {
    "duration": 3,
    "start_time": "2022-12-16T13:12:08.641Z"
   },
   {
    "duration": 10,
    "start_time": "2022-12-16T13:12:08.651Z"
   },
   {
    "duration": 24,
    "start_time": "2022-12-16T13:12:08.663Z"
   },
   {
    "duration": 4,
    "start_time": "2022-12-16T13:12:08.689Z"
   },
   {
    "duration": 14,
    "start_time": "2022-12-16T13:12:08.695Z"
   },
   {
    "duration": 8,
    "start_time": "2022-12-16T13:12:08.711Z"
   },
   {
    "duration": 8,
    "start_time": "2022-12-16T13:12:08.721Z"
   },
   {
    "duration": 6,
    "start_time": "2022-12-16T13:12:08.731Z"
   },
   {
    "duration": 23,
    "start_time": "2022-12-16T13:12:08.738Z"
   },
   {
    "duration": 14,
    "start_time": "2022-12-16T13:12:08.762Z"
   },
   {
    "duration": 5,
    "start_time": "2022-12-16T13:12:08.780Z"
   },
   {
    "duration": 8,
    "start_time": "2022-12-16T13:12:08.787Z"
   },
   {
    "duration": 14,
    "start_time": "2022-12-16T13:12:08.796Z"
   },
   {
    "duration": 7,
    "start_time": "2022-12-16T13:12:08.812Z"
   },
   {
    "duration": 10,
    "start_time": "2022-12-16T13:12:08.820Z"
   },
   {
    "duration": 22,
    "start_time": "2022-12-16T13:12:08.832Z"
   },
   {
    "duration": 17,
    "start_time": "2022-12-16T13:12:08.856Z"
   },
   {
    "duration": 8,
    "start_time": "2022-12-16T13:12:08.875Z"
   },
   {
    "duration": 11,
    "start_time": "2022-12-16T13:12:08.885Z"
   },
   {
    "duration": 20,
    "start_time": "2022-12-16T13:15:32.757Z"
   },
   {
    "duration": 15,
    "start_time": "2022-12-16T13:16:16.093Z"
   },
   {
    "duration": 11,
    "start_time": "2022-12-16T13:16:40.111Z"
   },
   {
    "duration": 91,
    "start_time": "2022-12-16T13:16:57.888Z"
   },
   {
    "duration": 22,
    "start_time": "2022-12-16T13:16:57.982Z"
   },
   {
    "duration": 23,
    "start_time": "2022-12-16T13:16:58.006Z"
   },
   {
    "duration": 24,
    "start_time": "2022-12-16T13:16:58.031Z"
   },
   {
    "duration": 2,
    "start_time": "2022-12-16T13:16:58.058Z"
   },
   {
    "duration": 38,
    "start_time": "2022-12-16T13:16:58.062Z"
   },
   {
    "duration": 4,
    "start_time": "2022-12-16T13:16:58.101Z"
   },
   {
    "duration": 16,
    "start_time": "2022-12-16T13:16:58.107Z"
   },
   {
    "duration": 5,
    "start_time": "2022-12-16T13:16:58.125Z"
   },
   {
    "duration": 7,
    "start_time": "2022-12-16T13:16:58.154Z"
   },
   {
    "duration": 12,
    "start_time": "2022-12-16T13:16:58.163Z"
   },
   {
    "duration": 49,
    "start_time": "2022-12-16T13:16:58.182Z"
   },
   {
    "duration": 11,
    "start_time": "2022-12-16T13:16:58.232Z"
   },
   {
    "duration": 8,
    "start_time": "2022-12-16T13:16:58.244Z"
   },
   {
    "duration": 13,
    "start_time": "2022-12-16T13:16:58.254Z"
   },
   {
    "duration": 22,
    "start_time": "2022-12-16T13:16:58.268Z"
   },
   {
    "duration": 18,
    "start_time": "2022-12-16T13:16:58.291Z"
   },
   {
    "duration": 3,
    "start_time": "2022-12-16T13:16:58.311Z"
   },
   {
    "duration": 42,
    "start_time": "2022-12-16T13:16:58.316Z"
   },
   {
    "duration": 7,
    "start_time": "2022-12-16T13:16:58.360Z"
   },
   {
    "duration": 6,
    "start_time": "2022-12-16T13:16:58.369Z"
   },
   {
    "duration": 18,
    "start_time": "2022-12-16T13:16:58.377Z"
   },
   {
    "duration": 6,
    "start_time": "2022-12-16T13:16:58.397Z"
   },
   {
    "duration": 10,
    "start_time": "2022-12-16T13:16:58.405Z"
   },
   {
    "duration": 8,
    "start_time": "2022-12-16T13:16:58.417Z"
   },
   {
    "duration": 33,
    "start_time": "2022-12-16T13:16:58.426Z"
   },
   {
    "duration": 7,
    "start_time": "2022-12-16T13:16:58.461Z"
   },
   {
    "duration": 8,
    "start_time": "2022-12-16T13:16:58.471Z"
   },
   {
    "duration": 2,
    "start_time": "2022-12-16T13:16:58.481Z"
   },
   {
    "duration": 10,
    "start_time": "2022-12-16T13:16:58.485Z"
   },
   {
    "duration": 6,
    "start_time": "2022-12-16T13:16:58.497Z"
   },
   {
    "duration": 51,
    "start_time": "2022-12-16T13:16:58.505Z"
   },
   {
    "duration": 7,
    "start_time": "2022-12-16T13:16:58.558Z"
   },
   {
    "duration": 11,
    "start_time": "2022-12-16T13:16:58.566Z"
   },
   {
    "duration": 7,
    "start_time": "2022-12-16T13:16:58.579Z"
   },
   {
    "duration": 9,
    "start_time": "2022-12-16T13:16:58.588Z"
   },
   {
    "duration": 86,
    "start_time": "2022-12-16T13:17:05.772Z"
   },
   {
    "duration": 21,
    "start_time": "2022-12-16T13:17:08.796Z"
   },
   {
    "duration": 22,
    "start_time": "2022-12-16T13:17:12.939Z"
   },
   {
    "duration": 15,
    "start_time": "2022-12-16T13:17:15.963Z"
   },
   {
    "duration": 17,
    "start_time": "2022-12-16T13:17:19.932Z"
   },
   {
    "duration": 13,
    "start_time": "2022-12-16T13:18:04.283Z"
   },
   {
    "duration": 7,
    "start_time": "2022-12-16T13:18:08.675Z"
   },
   {
    "duration": 14,
    "start_time": "2022-12-16T13:25:32.030Z"
   },
   {
    "duration": 15,
    "start_time": "2022-12-16T13:25:34.797Z"
   },
   {
    "duration": 18,
    "start_time": "2022-12-16T13:25:45.909Z"
   },
   {
    "duration": 15,
    "start_time": "2022-12-16T13:25:58.918Z"
   },
   {
    "duration": 9,
    "start_time": "2022-12-16T13:26:42.524Z"
   },
   {
    "duration": 2,
    "start_time": "2022-12-16T13:27:20.509Z"
   },
   {
    "duration": 3,
    "start_time": "2022-12-16T13:27:22.661Z"
   },
   {
    "duration": 8,
    "start_time": "2022-12-16T13:28:00.390Z"
   },
   {
    "duration": 13,
    "start_time": "2022-12-16T13:28:34.626Z"
   },
   {
    "duration": 3,
    "start_time": "2022-12-16T13:28:45.453Z"
   },
   {
    "duration": 7,
    "start_time": "2022-12-16T13:28:51.979Z"
   },
   {
    "duration": 4,
    "start_time": "2022-12-16T13:28:56.611Z"
   },
   {
    "duration": 17,
    "start_time": "2022-12-16T13:29:01.451Z"
   },
   {
    "duration": 14,
    "start_time": "2022-12-16T13:29:30.571Z"
   },
   {
    "duration": 85,
    "start_time": "2022-12-16T13:30:26.858Z"
   },
   {
    "duration": 2,
    "start_time": "2022-12-16T13:30:35.906Z"
   },
   {
    "duration": 15,
    "start_time": "2022-12-16T13:39:26.923Z"
   },
   {
    "duration": 3,
    "start_time": "2022-12-16T13:39:39.564Z"
   },
   {
    "duration": 14,
    "start_time": "2022-12-16T13:40:21.811Z"
   },
   {
    "duration": 14,
    "start_time": "2022-12-16T13:43:47.368Z"
   },
   {
    "duration": 16,
    "start_time": "2022-12-16T13:44:00.887Z"
   },
   {
    "duration": 13,
    "start_time": "2022-12-16T13:44:07.888Z"
   },
   {
    "duration": 30,
    "start_time": "2022-12-16T13:53:38.217Z"
   },
   {
    "duration": 3,
    "start_time": "2022-12-16T13:53:39.822Z"
   },
   {
    "duration": 8,
    "start_time": "2022-12-16T13:53:40.980Z"
   },
   {
    "duration": 4,
    "start_time": "2022-12-16T13:53:42.966Z"
   },
   {
    "duration": 6,
    "start_time": "2022-12-16T13:53:45.315Z"
   },
   {
    "duration": 5,
    "start_time": "2022-12-16T13:53:46.411Z"
   },
   {
    "duration": 33,
    "start_time": "2022-12-16T13:53:48.043Z"
   },
   {
    "duration": 9,
    "start_time": "2022-12-16T13:53:49.828Z"
   },
   {
    "duration": 3,
    "start_time": "2022-12-16T13:53:51.242Z"
   },
   {
    "duration": 17,
    "start_time": "2022-12-16T13:53:52.404Z"
   },
   {
    "duration": 19,
    "start_time": "2022-12-16T13:53:53.075Z"
   },
   {
    "duration": 17,
    "start_time": "2022-12-16T13:53:53.649Z"
   },
   {
    "duration": 5,
    "start_time": "2022-12-16T13:53:54.832Z"
   },
   {
    "duration": 10,
    "start_time": "2022-12-16T13:53:55.263Z"
   },
   {
    "duration": 5,
    "start_time": "2022-12-16T13:53:56.177Z"
   },
   {
    "duration": 3,
    "start_time": "2022-12-16T13:53:56.964Z"
   },
   {
    "duration": 8,
    "start_time": "2022-12-16T13:53:57.315Z"
   },
   {
    "duration": 6,
    "start_time": "2022-12-16T13:53:59.100Z"
   },
   {
    "duration": 6,
    "start_time": "2022-12-16T13:54:00.461Z"
   },
   {
    "duration": 2,
    "start_time": "2022-12-16T13:54:01.186Z"
   },
   {
    "duration": 6,
    "start_time": "2022-12-16T13:54:02.557Z"
   },
   {
    "duration": 5,
    "start_time": "2022-12-16T14:17:05.881Z"
   },
   {
    "duration": 68,
    "start_time": "2022-12-16T15:29:03.606Z"
   },
   {
    "duration": 16,
    "start_time": "2022-12-16T15:29:03.677Z"
   },
   {
    "duration": 31,
    "start_time": "2022-12-16T15:29:03.695Z"
   },
   {
    "duration": 9,
    "start_time": "2022-12-16T15:29:03.728Z"
   },
   {
    "duration": 30,
    "start_time": "2022-12-16T15:29:03.739Z"
   },
   {
    "duration": 16,
    "start_time": "2022-12-16T15:29:03.771Z"
   },
   {
    "duration": 42,
    "start_time": "2022-12-16T15:29:03.789Z"
   },
   {
    "duration": 4,
    "start_time": "2022-12-16T15:29:03.833Z"
   },
   {
    "duration": 26,
    "start_time": "2022-12-16T15:29:03.838Z"
   },
   {
    "duration": 4,
    "start_time": "2022-12-16T15:29:03.867Z"
   },
   {
    "duration": 6,
    "start_time": "2022-12-16T15:29:03.873Z"
   },
   {
    "duration": 7,
    "start_time": "2022-12-16T15:29:03.881Z"
   },
   {
    "duration": 35,
    "start_time": "2022-12-16T15:29:03.890Z"
   },
   {
    "duration": 9,
    "start_time": "2022-12-16T15:29:03.927Z"
   },
   {
    "duration": 4,
    "start_time": "2022-12-16T15:29:03.952Z"
   },
   {
    "duration": 13,
    "start_time": "2022-12-16T15:29:03.958Z"
   },
   {
    "duration": 21,
    "start_time": "2022-12-16T15:29:03.972Z"
   },
   {
    "duration": 17,
    "start_time": "2022-12-16T15:29:03.995Z"
   },
   {
    "duration": 4,
    "start_time": "2022-12-16T15:29:04.013Z"
   },
   {
    "duration": 34,
    "start_time": "2022-12-16T15:29:04.018Z"
   },
   {
    "duration": 6,
    "start_time": "2022-12-16T15:29:04.054Z"
   },
   {
    "duration": 28,
    "start_time": "2022-12-16T15:29:04.061Z"
   },
   {
    "duration": 19,
    "start_time": "2022-12-16T15:29:04.090Z"
   },
   {
    "duration": 27,
    "start_time": "2022-12-16T15:29:04.111Z"
   },
   {
    "duration": 22,
    "start_time": "2022-12-16T15:29:04.140Z"
   },
   {
    "duration": 12,
    "start_time": "2022-12-16T15:29:04.164Z"
   },
   {
    "duration": 33,
    "start_time": "2022-12-16T15:29:04.178Z"
   },
   {
    "duration": 8,
    "start_time": "2022-12-16T15:29:04.215Z"
   },
   {
    "duration": 28,
    "start_time": "2022-12-16T15:29:04.225Z"
   },
   {
    "duration": 35,
    "start_time": "2022-12-16T15:29:04.255Z"
   },
   {
    "duration": 26,
    "start_time": "2022-12-16T15:29:04.292Z"
   },
   {
    "duration": 21,
    "start_time": "2022-12-16T15:29:04.320Z"
   },
   {
    "duration": 22,
    "start_time": "2022-12-16T15:29:04.343Z"
   },
   {
    "duration": 11,
    "start_time": "2022-12-16T15:29:04.367Z"
   },
   {
    "duration": 21,
    "start_time": "2022-12-16T15:29:04.380Z"
   },
   {
    "duration": 40,
    "start_time": "2022-12-16T15:29:04.403Z"
   },
   {
    "duration": 23,
    "start_time": "2022-12-16T15:29:04.445Z"
   }
  ],
  "colab": {
   "name": "dpp_template_part2.ipynb",
   "provenance": []
  },
  "kernelspec": {
   "display_name": "Python 3 (ipykernel)",
   "language": "python",
   "name": "python3"
  },
  "language_info": {
   "codemirror_mode": {
    "name": "ipython",
    "version": 3
   },
   "file_extension": ".py",
   "mimetype": "text/x-python",
   "name": "python",
   "nbconvert_exporter": "python",
   "pygments_lexer": "ipython3",
   "version": "3.9.16"
  },
  "toc": {
   "base_numbering": 1,
   "nav_menu": {},
   "number_sections": true,
   "sideBar": true,
   "skip_h1_title": true,
   "title_cell": "Table of Contents",
   "title_sidebar": "Contents",
   "toc_cell": false,
   "toc_position": {
    "height": "calc(100% - 180px)",
    "left": "10px",
    "top": "150px",
    "width": "319.583px"
   },
   "toc_section_display": true,
   "toc_window_display": true
  }
 },
 "nbformat": 4,
 "nbformat_minor": 5
}
